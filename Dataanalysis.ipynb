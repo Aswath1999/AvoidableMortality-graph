{
 "cells": [
  {
   "cell_type": "code",
   "execution_count": 104,
   "id": "e7179245",
   "metadata": {},
   "outputs": [
    {
     "data": {
      "text/html": [
       "        <script type=\"text/javascript\">\n",
       "        window.PlotlyConfig = {MathJaxConfig: 'local'};\n",
       "        if (window.MathJax) {MathJax.Hub.Config({SVG: {font: \"STIX-Web\"}});}\n",
       "        if (typeof require !== 'undefined') {\n",
       "        require.undef(\"plotly\");\n",
       "        requirejs.config({\n",
       "            paths: {\n",
       "                'plotly': ['https://cdn.plot.ly/plotly-2.8.3.min']\n",
       "            }\n",
       "        });\n",
       "        require(['plotly'], function(Plotly) {\n",
       "            window._Plotly = Plotly;\n",
       "        });\n",
       "        }\n",
       "        </script>\n",
       "        "
      ]
     },
     "metadata": {},
     "output_type": "display_data"
    },
    {
     "data": {
      "text/html": [
       "        <script type=\"text/javascript\">\n",
       "        window.PlotlyConfig = {MathJaxConfig: 'local'};\n",
       "        if (window.MathJax) {MathJax.Hub.Config({SVG: {font: \"STIX-Web\"}});}\n",
       "        if (typeof require !== 'undefined') {\n",
       "        require.undef(\"plotly\");\n",
       "        requirejs.config({\n",
       "            paths: {\n",
       "                'plotly': ['https://cdn.plot.ly/plotly-2.8.3.min']\n",
       "            }\n",
       "        });\n",
       "        require(['plotly'], function(Plotly) {\n",
       "            window._Plotly = Plotly;\n",
       "        });\n",
       "        }\n",
       "        </script>\n",
       "        "
      ]
     },
     "metadata": {},
     "output_type": "display_data"
    }
   ],
   "source": [
    "import pandas as pd\n",
    "import seaborn as sns\n",
    "import matplotlib.pyplot as plt\n",
    "import matplotlib\n",
    "import chart_studio.plotly as py\n",
    "import plotly.express as px\n",
    "import cufflinks as cf\n",
    "from plotly.offline import download_plotlyjs,init_notebook_mode,plot,iplot\n",
    "import plotly.graph_objects as go\n",
    "init_notebook_mode(connected=True)\n",
    "cf.go_offline()\n",
    "# %matplotlib notebook   \n",
    "# use notebook instead of qt if you don't want interactive window in a separate window\n",
    "# Dataimported from genesis and OECD statistics\n",
    "#Interactive plots. The individual years can be zoomed in with the jupyter notebook interface."
   ]
  },
  {
   "cell_type": "markdown",
   "id": "dabeddcd",
   "metadata": {},
   "source": [
    "# Average life span in Germany graph "
   ]
  },
  {
   "cell_type": "code",
   "execution_count": 105,
   "id": "adb2e2df",
   "metadata": {
    "scrolled": false
   },
   "outputs": [],
   "source": [
    "%matplotlib qt\n",
    "fig = plt.figure(figsize=(10,6))\n",
    "sns.set(style='darkgrid')\n",
    "df=pd.read_csv('average-life.csv',delimiter=';')\n",
    "df['time']=pd.to_datetime(df['time'],format='%Y')\n",
    "df=df.rename(columns={\"BEV033__Average_age_at_death__years\":\"Average age at death\",\"2_variable_code.2\":\"Gender\",\"time\":\"years\"})\n",
    "sns.lineplot(x=\"years\",y=\"Average age at death\",hue=\"Gender\",data=df,style=\"Gender\",\n",
    "    markers=True, dashes=False)\n",
    "plt.ylabel('Average age')\n",
    "plt.title('Average Life span')\n",
    "plt.savefig('average-life.png')\n",
    "\n",
    "#Average age at death for male and female in Germany from 1956 is given."
   ]
  },
  {
   "cell_type": "code",
   "execution_count": 106,
   "id": "b7d2462e",
   "metadata": {},
   "outputs": [
    {
     "data": {
      "application/vnd.plotly.v1+json": {
       "config": {
        "plotlyServerURL": "https://plot.ly"
       },
       "data": [
        {
         "hovertemplate": "Gender=Male<br>years=%{x}<br>Average age at death=%{y}<extra></extra>",
         "legendgroup": "Male",
         "line": {
          "color": "royalblue",
          "dash": "solid"
         },
         "marker": {
          "symbol": "circle"
         },
         "mode": "lines+markers",
         "name": "Male",
         "orientation": "v",
         "showlegend": true,
         "type": "scatter",
         "x": [
          "1956-01-01T00:00:00",
          "1957-01-01T00:00:00",
          "1958-01-01T00:00:00",
          "1959-01-01T00:00:00",
          "1960-01-01T00:00:00",
          "1961-01-01T00:00:00",
          "1962-01-01T00:00:00",
          "1963-01-01T00:00:00",
          "1964-01-01T00:00:00",
          "1965-01-01T00:00:00",
          "1966-01-01T00:00:00",
          "1967-01-01T00:00:00",
          "1968-01-01T00:00:00",
          "1969-01-01T00:00:00",
          "1970-01-01T00:00:00",
          "1971-01-01T00:00:00",
          "1972-01-01T00:00:00",
          "1973-01-01T00:00:00",
          "1974-01-01T00:00:00",
          "1975-01-01T00:00:00",
          "1976-01-01T00:00:00",
          "1977-01-01T00:00:00",
          "1978-01-01T00:00:00",
          "1979-01-01T00:00:00",
          "1980-01-01T00:00:00",
          "1981-01-01T00:00:00",
          "1982-01-01T00:00:00",
          "1983-01-01T00:00:00",
          "1984-01-01T00:00:00",
          "1985-01-01T00:00:00",
          "1986-01-01T00:00:00",
          "1987-01-01T00:00:00",
          "1988-01-01T00:00:00",
          "1989-01-01T00:00:00",
          "1990-01-01T00:00:00",
          "1991-01-01T00:00:00",
          "1992-01-01T00:00:00",
          "1993-01-01T00:00:00",
          "1994-01-01T00:00:00",
          "1995-01-01T00:00:00",
          "1996-01-01T00:00:00",
          "1997-01-01T00:00:00",
          "1998-01-01T00:00:00",
          "1999-01-01T00:00:00",
          "2000-01-01T00:00:00",
          "2001-01-01T00:00:00",
          "2002-01-01T00:00:00",
          "2003-01-01T00:00:00",
          "2004-01-01T00:00:00",
          "2005-01-01T00:00:00",
          "2006-01-01T00:00:00",
          "2007-01-01T00:00:00",
          "2008-01-01T00:00:00",
          "2009-01-01T00:00:00",
          "2010-01-01T00:00:00",
          "2011-01-01T00:00:00",
          "2012-01-01T00:00:00",
          "2013-01-01T00:00:00",
          "2014-01-01T00:00:00",
          "2015-01-01T00:00:00",
          "2016-01-01T00:00:00",
          "2017-01-01T00:00:00",
          "2018-01-01T00:00:00",
          "2019-01-01T00:00:00",
          "2020-01-01T00:00:00"
         ],
         "xaxis": "x",
         "y": [
          62.39,
          62.58,
          62.83,
          62.98,
          63.59,
          63.39,
          64.22,
          64.51,
          64.4,
          65.24,
          65.26,
          65.54,
          66.32,
          66.18,
          66.25,
          66.43,
          66.72,
          67.18,
          67.46,
          67.72,
          67.85,
          67.88,
          68.15,
          68.29,
          68.49,
          68.74,
          68.84,
          69.15,
          69.41,
          69.72,
          69.76,
          69.7,
          69.71,
          69.87,
          69.69,
          69.58,
          69.57,
          69.83,
          69.8,
          69.99,
          70.14,
          70.22,
          70.56,
          70.66,
          70.73,
          70.9,
          71.18,
          71.42,
          71.53,
          71.91,
          72.18,
          72.49,
          72.89,
          73.2,
          73.45,
          73.74,
          74.21,
          74.55,
          74.71,
          75.06,
          75.19,
          75.68,
          75.86,
          76.06,
          76.47
         ],
         "yaxis": "y"
        },
        {
         "hovertemplate": "Gender=Female<br>years=%{x}<br>Average age at death=%{y}<extra></extra>",
         "legendgroup": "Female",
         "line": {
          "color": "firebrick",
          "dash": "solid"
         },
         "marker": {
          "symbol": "circle"
         },
         "mode": "lines+markers",
         "name": "Female",
         "orientation": "v",
         "showlegend": true,
         "type": "scatter",
         "x": [
          "1956-01-01T00:00:00",
          "1957-01-01T00:00:00",
          "1958-01-01T00:00:00",
          "1959-01-01T00:00:00",
          "1960-01-01T00:00:00",
          "1961-01-01T00:00:00",
          "1962-01-01T00:00:00",
          "1963-01-01T00:00:00",
          "1964-01-01T00:00:00",
          "1965-01-01T00:00:00",
          "1966-01-01T00:00:00",
          "1967-01-01T00:00:00",
          "1968-01-01T00:00:00",
          "1969-01-01T00:00:00",
          "1970-01-01T00:00:00",
          "1971-01-01T00:00:00",
          "1972-01-01T00:00:00",
          "1973-01-01T00:00:00",
          "1974-01-01T00:00:00",
          "1975-01-01T00:00:00",
          "1976-01-01T00:00:00",
          "1977-01-01T00:00:00",
          "1978-01-01T00:00:00",
          "1979-01-01T00:00:00",
          "1980-01-01T00:00:00",
          "1981-01-01T00:00:00",
          "1982-01-01T00:00:00",
          "1983-01-01T00:00:00",
          "1984-01-01T00:00:00",
          "1985-01-01T00:00:00",
          "1986-01-01T00:00:00",
          "1987-01-01T00:00:00",
          "1988-01-01T00:00:00",
          "1989-01-01T00:00:00",
          "1990-01-01T00:00:00",
          "1991-01-01T00:00:00",
          "1992-01-01T00:00:00",
          "1993-01-01T00:00:00",
          "1994-01-01T00:00:00",
          "1995-01-01T00:00:00",
          "1996-01-01T00:00:00",
          "1997-01-01T00:00:00",
          "1998-01-01T00:00:00",
          "1999-01-01T00:00:00",
          "2000-01-01T00:00:00",
          "2001-01-01T00:00:00",
          "2002-01-01T00:00:00",
          "2003-01-01T00:00:00",
          "2004-01-01T00:00:00",
          "2005-01-01T00:00:00",
          "2006-01-01T00:00:00",
          "2007-01-01T00:00:00",
          "2008-01-01T00:00:00",
          "2009-01-01T00:00:00",
          "2010-01-01T00:00:00",
          "2011-01-01T00:00:00",
          "2012-01-01T00:00:00",
          "2013-01-01T00:00:00",
          "2014-01-01T00:00:00",
          "2015-01-01T00:00:00",
          "2016-01-01T00:00:00",
          "2017-01-01T00:00:00",
          "2018-01-01T00:00:00",
          "2019-01-01T00:00:00",
          "2020-01-01T00:00:00"
         ],
         "xaxis": "x",
         "y": [
          66.22,
          66.55,
          66.84,
          67.09,
          67.8,
          67.83,
          68.54,
          68.89,
          69,
          69.74,
          70.03,
          70.4,
          71.14,
          71.11,
          71.49,
          71.8,
          72.2,
          72.61,
          72.97,
          73.34,
          73.6,
          73.78,
          74.15,
          74.42,
          74.75,
          75.08,
          75.33,
          75.71,
          75.94,
          76.36,
          76.63,
          76.79,
          77.01,
          77.33,
          77.55,
          77.68,
          77.88,
          78.16,
          78.39,
          78.58,
          78.82,
          78.97,
          79.25,
          79.43,
          79.48,
          79.72,
          79.94,
          80.16,
          80.11,
          80.33,
          80.43,
          80.58,
          80.78,
          80.88,
          80.97,
          80.98,
          81.3,
          81.38,
          81.4,
          81.64,
          81.53,
          81.83,
          81.91,
          81.94,
          82.2
         ],
         "yaxis": "y"
        },
        {
         "hovertemplate": "Gender=Total<br>years=%{x}<br>Average age at death=%{y}<extra></extra>",
         "legendgroup": "Total",
         "line": {
          "color": "gray",
          "dash": "solid"
         },
         "marker": {
          "symbol": "circle"
         },
         "mode": "lines+markers",
         "name": "Total",
         "orientation": "v",
         "showlegend": true,
         "type": "scatter",
         "x": [
          "1956-01-01T00:00:00",
          "1957-01-01T00:00:00",
          "1958-01-01T00:00:00",
          "1959-01-01T00:00:00",
          "1960-01-01T00:00:00",
          "1961-01-01T00:00:00",
          "1962-01-01T00:00:00",
          "1963-01-01T00:00:00",
          "1964-01-01T00:00:00",
          "1965-01-01T00:00:00",
          "1966-01-01T00:00:00",
          "1967-01-01T00:00:00",
          "1968-01-01T00:00:00",
          "1969-01-01T00:00:00",
          "1970-01-01T00:00:00",
          "1971-01-01T00:00:00",
          "1972-01-01T00:00:00",
          "1973-01-01T00:00:00",
          "1974-01-01T00:00:00",
          "1975-01-01T00:00:00",
          "1976-01-01T00:00:00",
          "1977-01-01T00:00:00",
          "1978-01-01T00:00:00",
          "1979-01-01T00:00:00",
          "1980-01-01T00:00:00",
          "1981-01-01T00:00:00",
          "1982-01-01T00:00:00",
          "1983-01-01T00:00:00",
          "1984-01-01T00:00:00",
          "1985-01-01T00:00:00",
          "1986-01-01T00:00:00",
          "1987-01-01T00:00:00",
          "1988-01-01T00:00:00",
          "1989-01-01T00:00:00",
          "1990-01-01T00:00:00",
          "1991-01-01T00:00:00",
          "1992-01-01T00:00:00",
          "1993-01-01T00:00:00",
          "1994-01-01T00:00:00",
          "1995-01-01T00:00:00",
          "1996-01-01T00:00:00",
          "1997-01-01T00:00:00",
          "1998-01-01T00:00:00",
          "1999-01-01T00:00:00",
          "2000-01-01T00:00:00",
          "2001-01-01T00:00:00",
          "2002-01-01T00:00:00",
          "2003-01-01T00:00:00",
          "2004-01-01T00:00:00",
          "2005-01-01T00:00:00",
          "2006-01-01T00:00:00",
          "2007-01-01T00:00:00",
          "2008-01-01T00:00:00",
          "2009-01-01T00:00:00",
          "2010-01-01T00:00:00",
          "2011-01-01T00:00:00",
          "2012-01-01T00:00:00",
          "2013-01-01T00:00:00",
          "2014-01-01T00:00:00",
          "2015-01-01T00:00:00",
          "2016-01-01T00:00:00",
          "2017-01-01T00:00:00",
          "2018-01-01T00:00:00",
          "2019-01-01T00:00:00",
          "2020-01-01T00:00:00"
         ],
         "xaxis": "x",
         "y": [
          64.26,
          64.51,
          64.8,
          65,
          65.65,
          65.57,
          66.34,
          66.66,
          66.65,
          67.47,
          67.62,
          67.96,
          68.74,
          68.65,
          68.89,
          69.16,
          69.5,
          69.93,
          70.28,
          70.61,
          70.82,
          70.91,
          71.25,
          71.48,
          71.76,
          72.07,
          72.26,
          72.62,
          72.87,
          73.26,
          73.45,
          73.49,
          73.63,
          73.89,
          73.92,
          73.93,
          74.03,
          74.3,
          74.42,
          74.59,
          74.81,
          74.92,
          75.24,
          75.38,
          75.41,
          75.63,
          75.89,
          76.1,
          76.09,
          76.39,
          76.55,
          76.75,
          77.06,
          77.24,
          77.39,
          77.52,
          77.9,
          78.1,
          78.14,
          78.44,
          78.41,
          78.81,
          78.93,
          79.03,
          79.34
         ],
         "yaxis": "y"
        }
       ],
       "layout": {
        "legend": {
         "title": {
          "text": "Gender"
         },
         "tracegroupgap": 0
        },
        "template": {
         "data": {
          "bar": [
           {
            "error_x": {
             "color": "#2a3f5f"
            },
            "error_y": {
             "color": "#2a3f5f"
            },
            "marker": {
             "line": {
              "color": "#E5ECF6",
              "width": 0.5
             },
             "pattern": {
              "fillmode": "overlay",
              "size": 10,
              "solidity": 0.2
             }
            },
            "type": "bar"
           }
          ],
          "barpolar": [
           {
            "marker": {
             "line": {
              "color": "#E5ECF6",
              "width": 0.5
             },
             "pattern": {
              "fillmode": "overlay",
              "size": 10,
              "solidity": 0.2
             }
            },
            "type": "barpolar"
           }
          ],
          "carpet": [
           {
            "aaxis": {
             "endlinecolor": "#2a3f5f",
             "gridcolor": "white",
             "linecolor": "white",
             "minorgridcolor": "white",
             "startlinecolor": "#2a3f5f"
            },
            "baxis": {
             "endlinecolor": "#2a3f5f",
             "gridcolor": "white",
             "linecolor": "white",
             "minorgridcolor": "white",
             "startlinecolor": "#2a3f5f"
            },
            "type": "carpet"
           }
          ],
          "choropleth": [
           {
            "colorbar": {
             "outlinewidth": 0,
             "ticks": ""
            },
            "type": "choropleth"
           }
          ],
          "contour": [
           {
            "colorbar": {
             "outlinewidth": 0,
             "ticks": ""
            },
            "colorscale": [
             [
              0,
              "#0d0887"
             ],
             [
              0.1111111111111111,
              "#46039f"
             ],
             [
              0.2222222222222222,
              "#7201a8"
             ],
             [
              0.3333333333333333,
              "#9c179e"
             ],
             [
              0.4444444444444444,
              "#bd3786"
             ],
             [
              0.5555555555555556,
              "#d8576b"
             ],
             [
              0.6666666666666666,
              "#ed7953"
             ],
             [
              0.7777777777777778,
              "#fb9f3a"
             ],
             [
              0.8888888888888888,
              "#fdca26"
             ],
             [
              1,
              "#f0f921"
             ]
            ],
            "type": "contour"
           }
          ],
          "contourcarpet": [
           {
            "colorbar": {
             "outlinewidth": 0,
             "ticks": ""
            },
            "type": "contourcarpet"
           }
          ],
          "heatmap": [
           {
            "colorbar": {
             "outlinewidth": 0,
             "ticks": ""
            },
            "colorscale": [
             [
              0,
              "#0d0887"
             ],
             [
              0.1111111111111111,
              "#46039f"
             ],
             [
              0.2222222222222222,
              "#7201a8"
             ],
             [
              0.3333333333333333,
              "#9c179e"
             ],
             [
              0.4444444444444444,
              "#bd3786"
             ],
             [
              0.5555555555555556,
              "#d8576b"
             ],
             [
              0.6666666666666666,
              "#ed7953"
             ],
             [
              0.7777777777777778,
              "#fb9f3a"
             ],
             [
              0.8888888888888888,
              "#fdca26"
             ],
             [
              1,
              "#f0f921"
             ]
            ],
            "type": "heatmap"
           }
          ],
          "heatmapgl": [
           {
            "colorbar": {
             "outlinewidth": 0,
             "ticks": ""
            },
            "colorscale": [
             [
              0,
              "#0d0887"
             ],
             [
              0.1111111111111111,
              "#46039f"
             ],
             [
              0.2222222222222222,
              "#7201a8"
             ],
             [
              0.3333333333333333,
              "#9c179e"
             ],
             [
              0.4444444444444444,
              "#bd3786"
             ],
             [
              0.5555555555555556,
              "#d8576b"
             ],
             [
              0.6666666666666666,
              "#ed7953"
             ],
             [
              0.7777777777777778,
              "#fb9f3a"
             ],
             [
              0.8888888888888888,
              "#fdca26"
             ],
             [
              1,
              "#f0f921"
             ]
            ],
            "type": "heatmapgl"
           }
          ],
          "histogram": [
           {
            "marker": {
             "pattern": {
              "fillmode": "overlay",
              "size": 10,
              "solidity": 0.2
             }
            },
            "type": "histogram"
           }
          ],
          "histogram2d": [
           {
            "colorbar": {
             "outlinewidth": 0,
             "ticks": ""
            },
            "colorscale": [
             [
              0,
              "#0d0887"
             ],
             [
              0.1111111111111111,
              "#46039f"
             ],
             [
              0.2222222222222222,
              "#7201a8"
             ],
             [
              0.3333333333333333,
              "#9c179e"
             ],
             [
              0.4444444444444444,
              "#bd3786"
             ],
             [
              0.5555555555555556,
              "#d8576b"
             ],
             [
              0.6666666666666666,
              "#ed7953"
             ],
             [
              0.7777777777777778,
              "#fb9f3a"
             ],
             [
              0.8888888888888888,
              "#fdca26"
             ],
             [
              1,
              "#f0f921"
             ]
            ],
            "type": "histogram2d"
           }
          ],
          "histogram2dcontour": [
           {
            "colorbar": {
             "outlinewidth": 0,
             "ticks": ""
            },
            "colorscale": [
             [
              0,
              "#0d0887"
             ],
             [
              0.1111111111111111,
              "#46039f"
             ],
             [
              0.2222222222222222,
              "#7201a8"
             ],
             [
              0.3333333333333333,
              "#9c179e"
             ],
             [
              0.4444444444444444,
              "#bd3786"
             ],
             [
              0.5555555555555556,
              "#d8576b"
             ],
             [
              0.6666666666666666,
              "#ed7953"
             ],
             [
              0.7777777777777778,
              "#fb9f3a"
             ],
             [
              0.8888888888888888,
              "#fdca26"
             ],
             [
              1,
              "#f0f921"
             ]
            ],
            "type": "histogram2dcontour"
           }
          ],
          "mesh3d": [
           {
            "colorbar": {
             "outlinewidth": 0,
             "ticks": ""
            },
            "type": "mesh3d"
           }
          ],
          "parcoords": [
           {
            "line": {
             "colorbar": {
              "outlinewidth": 0,
              "ticks": ""
             }
            },
            "type": "parcoords"
           }
          ],
          "pie": [
           {
            "automargin": true,
            "type": "pie"
           }
          ],
          "scatter": [
           {
            "marker": {
             "colorbar": {
              "outlinewidth": 0,
              "ticks": ""
             }
            },
            "type": "scatter"
           }
          ],
          "scatter3d": [
           {
            "line": {
             "colorbar": {
              "outlinewidth": 0,
              "ticks": ""
             }
            },
            "marker": {
             "colorbar": {
              "outlinewidth": 0,
              "ticks": ""
             }
            },
            "type": "scatter3d"
           }
          ],
          "scattercarpet": [
           {
            "marker": {
             "colorbar": {
              "outlinewidth": 0,
              "ticks": ""
             }
            },
            "type": "scattercarpet"
           }
          ],
          "scattergeo": [
           {
            "marker": {
             "colorbar": {
              "outlinewidth": 0,
              "ticks": ""
             }
            },
            "type": "scattergeo"
           }
          ],
          "scattergl": [
           {
            "marker": {
             "colorbar": {
              "outlinewidth": 0,
              "ticks": ""
             }
            },
            "type": "scattergl"
           }
          ],
          "scattermapbox": [
           {
            "marker": {
             "colorbar": {
              "outlinewidth": 0,
              "ticks": ""
             }
            },
            "type": "scattermapbox"
           }
          ],
          "scatterpolar": [
           {
            "marker": {
             "colorbar": {
              "outlinewidth": 0,
              "ticks": ""
             }
            },
            "type": "scatterpolar"
           }
          ],
          "scatterpolargl": [
           {
            "marker": {
             "colorbar": {
              "outlinewidth": 0,
              "ticks": ""
             }
            },
            "type": "scatterpolargl"
           }
          ],
          "scatterternary": [
           {
            "marker": {
             "colorbar": {
              "outlinewidth": 0,
              "ticks": ""
             }
            },
            "type": "scatterternary"
           }
          ],
          "surface": [
           {
            "colorbar": {
             "outlinewidth": 0,
             "ticks": ""
            },
            "colorscale": [
             [
              0,
              "#0d0887"
             ],
             [
              0.1111111111111111,
              "#46039f"
             ],
             [
              0.2222222222222222,
              "#7201a8"
             ],
             [
              0.3333333333333333,
              "#9c179e"
             ],
             [
              0.4444444444444444,
              "#bd3786"
             ],
             [
              0.5555555555555556,
              "#d8576b"
             ],
             [
              0.6666666666666666,
              "#ed7953"
             ],
             [
              0.7777777777777778,
              "#fb9f3a"
             ],
             [
              0.8888888888888888,
              "#fdca26"
             ],
             [
              1,
              "#f0f921"
             ]
            ],
            "type": "surface"
           }
          ],
          "table": [
           {
            "cells": {
             "fill": {
              "color": "#EBF0F8"
             },
             "line": {
              "color": "white"
             }
            },
            "header": {
             "fill": {
              "color": "#C8D4E3"
             },
             "line": {
              "color": "white"
             }
            },
            "type": "table"
           }
          ]
         },
         "layout": {
          "annotationdefaults": {
           "arrowcolor": "#2a3f5f",
           "arrowhead": 0,
           "arrowwidth": 1
          },
          "autotypenumbers": "strict",
          "coloraxis": {
           "colorbar": {
            "outlinewidth": 0,
            "ticks": ""
           }
          },
          "colorscale": {
           "diverging": [
            [
             0,
             "#8e0152"
            ],
            [
             0.1,
             "#c51b7d"
            ],
            [
             0.2,
             "#de77ae"
            ],
            [
             0.3,
             "#f1b6da"
            ],
            [
             0.4,
             "#fde0ef"
            ],
            [
             0.5,
             "#f7f7f7"
            ],
            [
             0.6,
             "#e6f5d0"
            ],
            [
             0.7,
             "#b8e186"
            ],
            [
             0.8,
             "#7fbc41"
            ],
            [
             0.9,
             "#4d9221"
            ],
            [
             1,
             "#276419"
            ]
           ],
           "sequential": [
            [
             0,
             "#0d0887"
            ],
            [
             0.1111111111111111,
             "#46039f"
            ],
            [
             0.2222222222222222,
             "#7201a8"
            ],
            [
             0.3333333333333333,
             "#9c179e"
            ],
            [
             0.4444444444444444,
             "#bd3786"
            ],
            [
             0.5555555555555556,
             "#d8576b"
            ],
            [
             0.6666666666666666,
             "#ed7953"
            ],
            [
             0.7777777777777778,
             "#fb9f3a"
            ],
            [
             0.8888888888888888,
             "#fdca26"
            ],
            [
             1,
             "#f0f921"
            ]
           ],
           "sequentialminus": [
            [
             0,
             "#0d0887"
            ],
            [
             0.1111111111111111,
             "#46039f"
            ],
            [
             0.2222222222222222,
             "#7201a8"
            ],
            [
             0.3333333333333333,
             "#9c179e"
            ],
            [
             0.4444444444444444,
             "#bd3786"
            ],
            [
             0.5555555555555556,
             "#d8576b"
            ],
            [
             0.6666666666666666,
             "#ed7953"
            ],
            [
             0.7777777777777778,
             "#fb9f3a"
            ],
            [
             0.8888888888888888,
             "#fdca26"
            ],
            [
             1,
             "#f0f921"
            ]
           ]
          },
          "colorway": [
           "#636efa",
           "#EF553B",
           "#00cc96",
           "#ab63fa",
           "#FFA15A",
           "#19d3f3",
           "#FF6692",
           "#B6E880",
           "#FF97FF",
           "#FECB52"
          ],
          "font": {
           "color": "#2a3f5f"
          },
          "geo": {
           "bgcolor": "white",
           "lakecolor": "white",
           "landcolor": "#E5ECF6",
           "showlakes": true,
           "showland": true,
           "subunitcolor": "white"
          },
          "hoverlabel": {
           "align": "left"
          },
          "hovermode": "closest",
          "mapbox": {
           "style": "light"
          },
          "paper_bgcolor": "white",
          "plot_bgcolor": "#E5ECF6",
          "polar": {
           "angularaxis": {
            "gridcolor": "white",
            "linecolor": "white",
            "ticks": ""
           },
           "bgcolor": "#E5ECF6",
           "radialaxis": {
            "gridcolor": "white",
            "linecolor": "white",
            "ticks": ""
           }
          },
          "scene": {
           "xaxis": {
            "backgroundcolor": "#E5ECF6",
            "gridcolor": "white",
            "gridwidth": 2,
            "linecolor": "white",
            "showbackground": true,
            "ticks": "",
            "zerolinecolor": "white"
           },
           "yaxis": {
            "backgroundcolor": "#E5ECF6",
            "gridcolor": "white",
            "gridwidth": 2,
            "linecolor": "white",
            "showbackground": true,
            "ticks": "",
            "zerolinecolor": "white"
           },
           "zaxis": {
            "backgroundcolor": "#E5ECF6",
            "gridcolor": "white",
            "gridwidth": 2,
            "linecolor": "white",
            "showbackground": true,
            "ticks": "",
            "zerolinecolor": "white"
           }
          },
          "shapedefaults": {
           "line": {
            "color": "#2a3f5f"
           }
          },
          "ternary": {
           "aaxis": {
            "gridcolor": "white",
            "linecolor": "white",
            "ticks": ""
           },
           "baxis": {
            "gridcolor": "white",
            "linecolor": "white",
            "ticks": ""
           },
           "bgcolor": "#E5ECF6",
           "caxis": {
            "gridcolor": "white",
            "linecolor": "white",
            "ticks": ""
           }
          },
          "title": {
           "x": 0.05
          },
          "xaxis": {
           "automargin": true,
           "gridcolor": "white",
           "linecolor": "white",
           "ticks": "",
           "title": {
            "standoff": 15
           },
           "zerolinecolor": "white",
           "zerolinewidth": 2
          },
          "yaxis": {
           "automargin": true,
           "gridcolor": "white",
           "linecolor": "white",
           "ticks": "",
           "title": {
            "standoff": 15
           },
           "zerolinecolor": "white",
           "zerolinewidth": 2
          }
         }
        },
        "title": {
         "text": "Average life span in Germany"
        },
        "xaxis": {
         "anchor": "y",
         "domain": [
          0,
          1
         ],
         "title": {
          "text": "years"
         }
        },
        "yaxis": {
         "anchor": "x",
         "domain": [
          0,
          1
         ],
         "title": {
          "text": "Average age at death"
         }
        }
       }
      },
      "text/html": [
       "<div>                            <div id=\"71788bf4-cca7-4396-a0cf-397f53dccb97\" class=\"plotly-graph-div\" style=\"height:525px; width:100%;\"></div>            <script type=\"text/javascript\">                require([\"plotly\"], function(Plotly) {                    window.PLOTLYENV=window.PLOTLYENV || {};                                    if (document.getElementById(\"71788bf4-cca7-4396-a0cf-397f53dccb97\")) {                    Plotly.newPlot(                        \"71788bf4-cca7-4396-a0cf-397f53dccb97\",                        [{\"hovertemplate\":\"Gender=Male<br>years=%{x}<br>Average age at death=%{y}<extra></extra>\",\"legendgroup\":\"Male\",\"line\":{\"color\":\"royalblue\",\"dash\":\"solid\"},\"marker\":{\"symbol\":\"circle\"},\"mode\":\"lines+markers\",\"name\":\"Male\",\"orientation\":\"v\",\"showlegend\":true,\"x\":[\"1956-01-01T00:00:00\",\"1957-01-01T00:00:00\",\"1958-01-01T00:00:00\",\"1959-01-01T00:00:00\",\"1960-01-01T00:00:00\",\"1961-01-01T00:00:00\",\"1962-01-01T00:00:00\",\"1963-01-01T00:00:00\",\"1964-01-01T00:00:00\",\"1965-01-01T00:00:00\",\"1966-01-01T00:00:00\",\"1967-01-01T00:00:00\",\"1968-01-01T00:00:00\",\"1969-01-01T00:00:00\",\"1970-01-01T00:00:00\",\"1971-01-01T00:00:00\",\"1972-01-01T00:00:00\",\"1973-01-01T00:00:00\",\"1974-01-01T00:00:00\",\"1975-01-01T00:00:00\",\"1976-01-01T00:00:00\",\"1977-01-01T00:00:00\",\"1978-01-01T00:00:00\",\"1979-01-01T00:00:00\",\"1980-01-01T00:00:00\",\"1981-01-01T00:00:00\",\"1982-01-01T00:00:00\",\"1983-01-01T00:00:00\",\"1984-01-01T00:00:00\",\"1985-01-01T00:00:00\",\"1986-01-01T00:00:00\",\"1987-01-01T00:00:00\",\"1988-01-01T00:00:00\",\"1989-01-01T00:00:00\",\"1990-01-01T00:00:00\",\"1991-01-01T00:00:00\",\"1992-01-01T00:00:00\",\"1993-01-01T00:00:00\",\"1994-01-01T00:00:00\",\"1995-01-01T00:00:00\",\"1996-01-01T00:00:00\",\"1997-01-01T00:00:00\",\"1998-01-01T00:00:00\",\"1999-01-01T00:00:00\",\"2000-01-01T00:00:00\",\"2001-01-01T00:00:00\",\"2002-01-01T00:00:00\",\"2003-01-01T00:00:00\",\"2004-01-01T00:00:00\",\"2005-01-01T00:00:00\",\"2006-01-01T00:00:00\",\"2007-01-01T00:00:00\",\"2008-01-01T00:00:00\",\"2009-01-01T00:00:00\",\"2010-01-01T00:00:00\",\"2011-01-01T00:00:00\",\"2012-01-01T00:00:00\",\"2013-01-01T00:00:00\",\"2014-01-01T00:00:00\",\"2015-01-01T00:00:00\",\"2016-01-01T00:00:00\",\"2017-01-01T00:00:00\",\"2018-01-01T00:00:00\",\"2019-01-01T00:00:00\",\"2020-01-01T00:00:00\"],\"xaxis\":\"x\",\"y\":[62.39,62.58,62.83,62.98,63.59,63.39,64.22,64.51,64.4,65.24,65.26,65.54,66.32,66.18,66.25,66.43,66.72,67.18,67.46,67.72,67.85,67.88,68.15,68.29,68.49,68.74,68.84,69.15,69.41,69.72,69.76,69.7,69.71,69.87,69.69,69.58,69.57,69.83,69.8,69.99,70.14,70.22,70.56,70.66,70.73,70.9,71.18,71.42,71.53,71.91,72.18,72.49,72.89,73.2,73.45,73.74,74.21,74.55,74.71,75.06,75.19,75.68,75.86,76.06,76.47],\"yaxis\":\"y\",\"type\":\"scatter\"},{\"hovertemplate\":\"Gender=Female<br>years=%{x}<br>Average age at death=%{y}<extra></extra>\",\"legendgroup\":\"Female\",\"line\":{\"color\":\"firebrick\",\"dash\":\"solid\"},\"marker\":{\"symbol\":\"circle\"},\"mode\":\"lines+markers\",\"name\":\"Female\",\"orientation\":\"v\",\"showlegend\":true,\"x\":[\"1956-01-01T00:00:00\",\"1957-01-01T00:00:00\",\"1958-01-01T00:00:00\",\"1959-01-01T00:00:00\",\"1960-01-01T00:00:00\",\"1961-01-01T00:00:00\",\"1962-01-01T00:00:00\",\"1963-01-01T00:00:00\",\"1964-01-01T00:00:00\",\"1965-01-01T00:00:00\",\"1966-01-01T00:00:00\",\"1967-01-01T00:00:00\",\"1968-01-01T00:00:00\",\"1969-01-01T00:00:00\",\"1970-01-01T00:00:00\",\"1971-01-01T00:00:00\",\"1972-01-01T00:00:00\",\"1973-01-01T00:00:00\",\"1974-01-01T00:00:00\",\"1975-01-01T00:00:00\",\"1976-01-01T00:00:00\",\"1977-01-01T00:00:00\",\"1978-01-01T00:00:00\",\"1979-01-01T00:00:00\",\"1980-01-01T00:00:00\",\"1981-01-01T00:00:00\",\"1982-01-01T00:00:00\",\"1983-01-01T00:00:00\",\"1984-01-01T00:00:00\",\"1985-01-01T00:00:00\",\"1986-01-01T00:00:00\",\"1987-01-01T00:00:00\",\"1988-01-01T00:00:00\",\"1989-01-01T00:00:00\",\"1990-01-01T00:00:00\",\"1991-01-01T00:00:00\",\"1992-01-01T00:00:00\",\"1993-01-01T00:00:00\",\"1994-01-01T00:00:00\",\"1995-01-01T00:00:00\",\"1996-01-01T00:00:00\",\"1997-01-01T00:00:00\",\"1998-01-01T00:00:00\",\"1999-01-01T00:00:00\",\"2000-01-01T00:00:00\",\"2001-01-01T00:00:00\",\"2002-01-01T00:00:00\",\"2003-01-01T00:00:00\",\"2004-01-01T00:00:00\",\"2005-01-01T00:00:00\",\"2006-01-01T00:00:00\",\"2007-01-01T00:00:00\",\"2008-01-01T00:00:00\",\"2009-01-01T00:00:00\",\"2010-01-01T00:00:00\",\"2011-01-01T00:00:00\",\"2012-01-01T00:00:00\",\"2013-01-01T00:00:00\",\"2014-01-01T00:00:00\",\"2015-01-01T00:00:00\",\"2016-01-01T00:00:00\",\"2017-01-01T00:00:00\",\"2018-01-01T00:00:00\",\"2019-01-01T00:00:00\",\"2020-01-01T00:00:00\"],\"xaxis\":\"x\",\"y\":[66.22,66.55,66.84,67.09,67.8,67.83,68.54,68.89,69.0,69.74,70.03,70.4,71.14,71.11,71.49,71.8,72.2,72.61,72.97,73.34,73.6,73.78,74.15,74.42,74.75,75.08,75.33,75.71,75.94,76.36,76.63,76.79,77.01,77.33,77.55,77.68,77.88,78.16,78.39,78.58,78.82,78.97,79.25,79.43,79.48,79.72,79.94,80.16,80.11,80.33,80.43,80.58,80.78,80.88,80.97,80.98,81.3,81.38,81.4,81.64,81.53,81.83,81.91,81.94,82.2],\"yaxis\":\"y\",\"type\":\"scatter\"},{\"hovertemplate\":\"Gender=Total<br>years=%{x}<br>Average age at death=%{y}<extra></extra>\",\"legendgroup\":\"Total\",\"line\":{\"color\":\"gray\",\"dash\":\"solid\"},\"marker\":{\"symbol\":\"circle\"},\"mode\":\"lines+markers\",\"name\":\"Total\",\"orientation\":\"v\",\"showlegend\":true,\"x\":[\"1956-01-01T00:00:00\",\"1957-01-01T00:00:00\",\"1958-01-01T00:00:00\",\"1959-01-01T00:00:00\",\"1960-01-01T00:00:00\",\"1961-01-01T00:00:00\",\"1962-01-01T00:00:00\",\"1963-01-01T00:00:00\",\"1964-01-01T00:00:00\",\"1965-01-01T00:00:00\",\"1966-01-01T00:00:00\",\"1967-01-01T00:00:00\",\"1968-01-01T00:00:00\",\"1969-01-01T00:00:00\",\"1970-01-01T00:00:00\",\"1971-01-01T00:00:00\",\"1972-01-01T00:00:00\",\"1973-01-01T00:00:00\",\"1974-01-01T00:00:00\",\"1975-01-01T00:00:00\",\"1976-01-01T00:00:00\",\"1977-01-01T00:00:00\",\"1978-01-01T00:00:00\",\"1979-01-01T00:00:00\",\"1980-01-01T00:00:00\",\"1981-01-01T00:00:00\",\"1982-01-01T00:00:00\",\"1983-01-01T00:00:00\",\"1984-01-01T00:00:00\",\"1985-01-01T00:00:00\",\"1986-01-01T00:00:00\",\"1987-01-01T00:00:00\",\"1988-01-01T00:00:00\",\"1989-01-01T00:00:00\",\"1990-01-01T00:00:00\",\"1991-01-01T00:00:00\",\"1992-01-01T00:00:00\",\"1993-01-01T00:00:00\",\"1994-01-01T00:00:00\",\"1995-01-01T00:00:00\",\"1996-01-01T00:00:00\",\"1997-01-01T00:00:00\",\"1998-01-01T00:00:00\",\"1999-01-01T00:00:00\",\"2000-01-01T00:00:00\",\"2001-01-01T00:00:00\",\"2002-01-01T00:00:00\",\"2003-01-01T00:00:00\",\"2004-01-01T00:00:00\",\"2005-01-01T00:00:00\",\"2006-01-01T00:00:00\",\"2007-01-01T00:00:00\",\"2008-01-01T00:00:00\",\"2009-01-01T00:00:00\",\"2010-01-01T00:00:00\",\"2011-01-01T00:00:00\",\"2012-01-01T00:00:00\",\"2013-01-01T00:00:00\",\"2014-01-01T00:00:00\",\"2015-01-01T00:00:00\",\"2016-01-01T00:00:00\",\"2017-01-01T00:00:00\",\"2018-01-01T00:00:00\",\"2019-01-01T00:00:00\",\"2020-01-01T00:00:00\"],\"xaxis\":\"x\",\"y\":[64.26,64.51,64.8,65.0,65.65,65.57,66.34,66.66,66.65,67.47,67.62,67.96,68.74,68.65,68.89,69.16,69.5,69.93,70.28,70.61,70.82,70.91,71.25,71.48,71.76,72.07,72.26,72.62,72.87,73.26,73.45,73.49,73.63,73.89,73.92,73.93,74.03,74.3,74.42,74.59,74.81,74.92,75.24,75.38,75.41,75.63,75.89,76.1,76.09,76.39,76.55,76.75,77.06,77.24,77.39,77.52,77.9,78.1,78.14,78.44,78.41,78.81,78.93,79.03,79.34],\"yaxis\":\"y\",\"type\":\"scatter\"}],                        {\"template\":{\"data\":{\"bar\":[{\"error_x\":{\"color\":\"#2a3f5f\"},\"error_y\":{\"color\":\"#2a3f5f\"},\"marker\":{\"line\":{\"color\":\"#E5ECF6\",\"width\":0.5},\"pattern\":{\"fillmode\":\"overlay\",\"size\":10,\"solidity\":0.2}},\"type\":\"bar\"}],\"barpolar\":[{\"marker\":{\"line\":{\"color\":\"#E5ECF6\",\"width\":0.5},\"pattern\":{\"fillmode\":\"overlay\",\"size\":10,\"solidity\":0.2}},\"type\":\"barpolar\"}],\"carpet\":[{\"aaxis\":{\"endlinecolor\":\"#2a3f5f\",\"gridcolor\":\"white\",\"linecolor\":\"white\",\"minorgridcolor\":\"white\",\"startlinecolor\":\"#2a3f5f\"},\"baxis\":{\"endlinecolor\":\"#2a3f5f\",\"gridcolor\":\"white\",\"linecolor\":\"white\",\"minorgridcolor\":\"white\",\"startlinecolor\":\"#2a3f5f\"},\"type\":\"carpet\"}],\"choropleth\":[{\"colorbar\":{\"outlinewidth\":0,\"ticks\":\"\"},\"type\":\"choropleth\"}],\"contour\":[{\"colorbar\":{\"outlinewidth\":0,\"ticks\":\"\"},\"colorscale\":[[0.0,\"#0d0887\"],[0.1111111111111111,\"#46039f\"],[0.2222222222222222,\"#7201a8\"],[0.3333333333333333,\"#9c179e\"],[0.4444444444444444,\"#bd3786\"],[0.5555555555555556,\"#d8576b\"],[0.6666666666666666,\"#ed7953\"],[0.7777777777777778,\"#fb9f3a\"],[0.8888888888888888,\"#fdca26\"],[1.0,\"#f0f921\"]],\"type\":\"contour\"}],\"contourcarpet\":[{\"colorbar\":{\"outlinewidth\":0,\"ticks\":\"\"},\"type\":\"contourcarpet\"}],\"heatmap\":[{\"colorbar\":{\"outlinewidth\":0,\"ticks\":\"\"},\"colorscale\":[[0.0,\"#0d0887\"],[0.1111111111111111,\"#46039f\"],[0.2222222222222222,\"#7201a8\"],[0.3333333333333333,\"#9c179e\"],[0.4444444444444444,\"#bd3786\"],[0.5555555555555556,\"#d8576b\"],[0.6666666666666666,\"#ed7953\"],[0.7777777777777778,\"#fb9f3a\"],[0.8888888888888888,\"#fdca26\"],[1.0,\"#f0f921\"]],\"type\":\"heatmap\"}],\"heatmapgl\":[{\"colorbar\":{\"outlinewidth\":0,\"ticks\":\"\"},\"colorscale\":[[0.0,\"#0d0887\"],[0.1111111111111111,\"#46039f\"],[0.2222222222222222,\"#7201a8\"],[0.3333333333333333,\"#9c179e\"],[0.4444444444444444,\"#bd3786\"],[0.5555555555555556,\"#d8576b\"],[0.6666666666666666,\"#ed7953\"],[0.7777777777777778,\"#fb9f3a\"],[0.8888888888888888,\"#fdca26\"],[1.0,\"#f0f921\"]],\"type\":\"heatmapgl\"}],\"histogram\":[{\"marker\":{\"pattern\":{\"fillmode\":\"overlay\",\"size\":10,\"solidity\":0.2}},\"type\":\"histogram\"}],\"histogram2d\":[{\"colorbar\":{\"outlinewidth\":0,\"ticks\":\"\"},\"colorscale\":[[0.0,\"#0d0887\"],[0.1111111111111111,\"#46039f\"],[0.2222222222222222,\"#7201a8\"],[0.3333333333333333,\"#9c179e\"],[0.4444444444444444,\"#bd3786\"],[0.5555555555555556,\"#d8576b\"],[0.6666666666666666,\"#ed7953\"],[0.7777777777777778,\"#fb9f3a\"],[0.8888888888888888,\"#fdca26\"],[1.0,\"#f0f921\"]],\"type\":\"histogram2d\"}],\"histogram2dcontour\":[{\"colorbar\":{\"outlinewidth\":0,\"ticks\":\"\"},\"colorscale\":[[0.0,\"#0d0887\"],[0.1111111111111111,\"#46039f\"],[0.2222222222222222,\"#7201a8\"],[0.3333333333333333,\"#9c179e\"],[0.4444444444444444,\"#bd3786\"],[0.5555555555555556,\"#d8576b\"],[0.6666666666666666,\"#ed7953\"],[0.7777777777777778,\"#fb9f3a\"],[0.8888888888888888,\"#fdca26\"],[1.0,\"#f0f921\"]],\"type\":\"histogram2dcontour\"}],\"mesh3d\":[{\"colorbar\":{\"outlinewidth\":0,\"ticks\":\"\"},\"type\":\"mesh3d\"}],\"parcoords\":[{\"line\":{\"colorbar\":{\"outlinewidth\":0,\"ticks\":\"\"}},\"type\":\"parcoords\"}],\"pie\":[{\"automargin\":true,\"type\":\"pie\"}],\"scatter\":[{\"marker\":{\"colorbar\":{\"outlinewidth\":0,\"ticks\":\"\"}},\"type\":\"scatter\"}],\"scatter3d\":[{\"line\":{\"colorbar\":{\"outlinewidth\":0,\"ticks\":\"\"}},\"marker\":{\"colorbar\":{\"outlinewidth\":0,\"ticks\":\"\"}},\"type\":\"scatter3d\"}],\"scattercarpet\":[{\"marker\":{\"colorbar\":{\"outlinewidth\":0,\"ticks\":\"\"}},\"type\":\"scattercarpet\"}],\"scattergeo\":[{\"marker\":{\"colorbar\":{\"outlinewidth\":0,\"ticks\":\"\"}},\"type\":\"scattergeo\"}],\"scattergl\":[{\"marker\":{\"colorbar\":{\"outlinewidth\":0,\"ticks\":\"\"}},\"type\":\"scattergl\"}],\"scattermapbox\":[{\"marker\":{\"colorbar\":{\"outlinewidth\":0,\"ticks\":\"\"}},\"type\":\"scattermapbox\"}],\"scatterpolar\":[{\"marker\":{\"colorbar\":{\"outlinewidth\":0,\"ticks\":\"\"}},\"type\":\"scatterpolar\"}],\"scatterpolargl\":[{\"marker\":{\"colorbar\":{\"outlinewidth\":0,\"ticks\":\"\"}},\"type\":\"scatterpolargl\"}],\"scatterternary\":[{\"marker\":{\"colorbar\":{\"outlinewidth\":0,\"ticks\":\"\"}},\"type\":\"scatterternary\"}],\"surface\":[{\"colorbar\":{\"outlinewidth\":0,\"ticks\":\"\"},\"colorscale\":[[0.0,\"#0d0887\"],[0.1111111111111111,\"#46039f\"],[0.2222222222222222,\"#7201a8\"],[0.3333333333333333,\"#9c179e\"],[0.4444444444444444,\"#bd3786\"],[0.5555555555555556,\"#d8576b\"],[0.6666666666666666,\"#ed7953\"],[0.7777777777777778,\"#fb9f3a\"],[0.8888888888888888,\"#fdca26\"],[1.0,\"#f0f921\"]],\"type\":\"surface\"}],\"table\":[{\"cells\":{\"fill\":{\"color\":\"#EBF0F8\"},\"line\":{\"color\":\"white\"}},\"header\":{\"fill\":{\"color\":\"#C8D4E3\"},\"line\":{\"color\":\"white\"}},\"type\":\"table\"}]},\"layout\":{\"annotationdefaults\":{\"arrowcolor\":\"#2a3f5f\",\"arrowhead\":0,\"arrowwidth\":1},\"autotypenumbers\":\"strict\",\"coloraxis\":{\"colorbar\":{\"outlinewidth\":0,\"ticks\":\"\"}},\"colorscale\":{\"diverging\":[[0,\"#8e0152\"],[0.1,\"#c51b7d\"],[0.2,\"#de77ae\"],[0.3,\"#f1b6da\"],[0.4,\"#fde0ef\"],[0.5,\"#f7f7f7\"],[0.6,\"#e6f5d0\"],[0.7,\"#b8e186\"],[0.8,\"#7fbc41\"],[0.9,\"#4d9221\"],[1,\"#276419\"]],\"sequential\":[[0.0,\"#0d0887\"],[0.1111111111111111,\"#46039f\"],[0.2222222222222222,\"#7201a8\"],[0.3333333333333333,\"#9c179e\"],[0.4444444444444444,\"#bd3786\"],[0.5555555555555556,\"#d8576b\"],[0.6666666666666666,\"#ed7953\"],[0.7777777777777778,\"#fb9f3a\"],[0.8888888888888888,\"#fdca26\"],[1.0,\"#f0f921\"]],\"sequentialminus\":[[0.0,\"#0d0887\"],[0.1111111111111111,\"#46039f\"],[0.2222222222222222,\"#7201a8\"],[0.3333333333333333,\"#9c179e\"],[0.4444444444444444,\"#bd3786\"],[0.5555555555555556,\"#d8576b\"],[0.6666666666666666,\"#ed7953\"],[0.7777777777777778,\"#fb9f3a\"],[0.8888888888888888,\"#fdca26\"],[1.0,\"#f0f921\"]]},\"colorway\":[\"#636efa\",\"#EF553B\",\"#00cc96\",\"#ab63fa\",\"#FFA15A\",\"#19d3f3\",\"#FF6692\",\"#B6E880\",\"#FF97FF\",\"#FECB52\"],\"font\":{\"color\":\"#2a3f5f\"},\"geo\":{\"bgcolor\":\"white\",\"lakecolor\":\"white\",\"landcolor\":\"#E5ECF6\",\"showlakes\":true,\"showland\":true,\"subunitcolor\":\"white\"},\"hoverlabel\":{\"align\":\"left\"},\"hovermode\":\"closest\",\"mapbox\":{\"style\":\"light\"},\"paper_bgcolor\":\"white\",\"plot_bgcolor\":\"#E5ECF6\",\"polar\":{\"angularaxis\":{\"gridcolor\":\"white\",\"linecolor\":\"white\",\"ticks\":\"\"},\"bgcolor\":\"#E5ECF6\",\"radialaxis\":{\"gridcolor\":\"white\",\"linecolor\":\"white\",\"ticks\":\"\"}},\"scene\":{\"xaxis\":{\"backgroundcolor\":\"#E5ECF6\",\"gridcolor\":\"white\",\"gridwidth\":2,\"linecolor\":\"white\",\"showbackground\":true,\"ticks\":\"\",\"zerolinecolor\":\"white\"},\"yaxis\":{\"backgroundcolor\":\"#E5ECF6\",\"gridcolor\":\"white\",\"gridwidth\":2,\"linecolor\":\"white\",\"showbackground\":true,\"ticks\":\"\",\"zerolinecolor\":\"white\"},\"zaxis\":{\"backgroundcolor\":\"#E5ECF6\",\"gridcolor\":\"white\",\"gridwidth\":2,\"linecolor\":\"white\",\"showbackground\":true,\"ticks\":\"\",\"zerolinecolor\":\"white\"}},\"shapedefaults\":{\"line\":{\"color\":\"#2a3f5f\"}},\"ternary\":{\"aaxis\":{\"gridcolor\":\"white\",\"linecolor\":\"white\",\"ticks\":\"\"},\"baxis\":{\"gridcolor\":\"white\",\"linecolor\":\"white\",\"ticks\":\"\"},\"bgcolor\":\"#E5ECF6\",\"caxis\":{\"gridcolor\":\"white\",\"linecolor\":\"white\",\"ticks\":\"\"}},\"title\":{\"x\":0.05},\"xaxis\":{\"automargin\":true,\"gridcolor\":\"white\",\"linecolor\":\"white\",\"ticks\":\"\",\"title\":{\"standoff\":15},\"zerolinecolor\":\"white\",\"zerolinewidth\":2},\"yaxis\":{\"automargin\":true,\"gridcolor\":\"white\",\"linecolor\":\"white\",\"ticks\":\"\",\"title\":{\"standoff\":15},\"zerolinecolor\":\"white\",\"zerolinewidth\":2}}},\"xaxis\":{\"anchor\":\"y\",\"domain\":[0.0,1.0],\"title\":{\"text\":\"years\"}},\"yaxis\":{\"anchor\":\"x\",\"domain\":[0.0,1.0],\"title\":{\"text\":\"Average age at death\"}},\"legend\":{\"title\":{\"text\":\"Gender\"},\"tracegroupgap\":0},\"title\":{\"text\":\"Average life span in Germany\"}},                        {\"responsive\": true}                    ).then(function(){\n",
       "                            \n",
       "var gd = document.getElementById('71788bf4-cca7-4396-a0cf-397f53dccb97');\n",
       "var x = new MutationObserver(function (mutations, observer) {{\n",
       "        var display = window.getComputedStyle(gd).display;\n",
       "        if (!display || display === 'none') {{\n",
       "            console.log([gd, 'removed!']);\n",
       "            Plotly.purge(gd);\n",
       "            observer.disconnect();\n",
       "        }}\n",
       "}});\n",
       "\n",
       "// Listen for the removal of the full notebook cells\n",
       "var notebookContainer = gd.closest('#notebook-container');\n",
       "if (notebookContainer) {{\n",
       "    x.observe(notebookContainer, {childList: true});\n",
       "}}\n",
       "\n",
       "// Listen for the clearing of the current output cell\n",
       "var outputEl = gd.closest('.output');\n",
       "if (outputEl) {{\n",
       "    x.observe(outputEl, {childList: true});\n",
       "}}\n",
       "\n",
       "                        })                };                });            </script>        </div>"
      ]
     },
     "metadata": {},
     "output_type": "display_data"
    }
   ],
   "source": [
    "df=pd.read_csv('average-life.csv',delimiter=';')\n",
    "df['time']=pd.to_datetime(df['time'],format='%Y')\n",
    "df=df.rename(columns={\"BEV033__Average_age_at_death__years\":\"Average age at death\",\"2_variable_code.2\":\"Gender\",\"time\":\"years\"})\n",
    "px.line(df,x='years',y=\"Average age at death\",labels={'x':'Year','y':'Average Age'},color=\"Gender\",line_group=\"Gender\",markers=True\n",
    "       ,title='Average life span in Germany', color_discrete_sequence=['royalblue', 'firebrick','gray'])\n",
    "\n",
    "# fig = go.Figure()\n",
    "# fig.add_trace(go.Scatter(x=df[df['Gender']=='Male']['years'], y=df[df['Gender']=='Male']['Average age at death'],\n",
    "#                     mode='lines+markers', line=dict(color='royalblue', width=2,dash='dashdot'),\n",
    "#                     name='Male'))\n",
    "# fig.add_trace(go.Scatter(x=df[df['Gender']=='Female']['years'], y=df[df['Gender']=='Female']['Average age at death'],\n",
    "#                     mode='lines+markers', line=dict(color='firebrick', width=2),\n",
    "#                     name='Female'))\n",
    "# fig.add_trace(go.Scatter(x=df[df['Gender']=='Total']['years'], y=df[df['Gender']=='Total']['Average age at death'],\n",
    "#                     mode='lines+markers',line=dict(color='green', width=2,dash='dot'),\n",
    "#                     name='Total'))"
   ]
  },
  {
   "cell_type": "markdown",
   "id": "60b41810",
   "metadata": {},
   "source": [
    "# Avoidable mortality graph:"
   ]
  },
  {
   "cell_type": "code",
   "execution_count": 99,
   "id": "31ac6aaa",
   "metadata": {
    "scrolled": true
   },
   "outputs": [],
   "source": [
    "df1=pd.read_csv('Mortality.csv')\n",
    "df1=df1.loc[(df1['Country'] == 'Germany')& (df1['Variable']=='Avoidable mortality (preventable+treatable)')]\n",
    "df1\n",
    "df1=df1.loc[df1['Measure'].isin(['Number of male deaths','Number of female deaths','Number of total deaths'])]"
   ]
  },
  {
   "cell_type": "code",
   "execution_count": 4,
   "id": "2a30bedd",
   "metadata": {
    "scrolled": true
   },
   "outputs": [],
   "source": [
    "%matplotlib qt\n",
    "figure = plt.figure(figsize=(10, 6))\n",
    "sns.lineplot(x=\"Year\",y=\"Value\",hue=\"Measure\",data=df1,style=\"Measure\",\n",
    "    markers=True, dashes=False,palette=\"cubehelix\")\n",
    "plt.xticks(df1['Year'])\n",
    "plt.tight_layout()\n",
    "plt.legend(title='Death by Group')\n",
    "plt.ylabel('Total Number of Deaths')\n",
    "plt.title('Avoidable Mortality(preventable+ treatable)')\n",
    "plt.savefig('avoidable-mortality.png')\n",
    "# \n",
    "#The graph shows both the preventable and avoidable mortality statistics of Germany from 2000 to 2019\n"
   ]
  },
  {
   "cell_type": "markdown",
   "id": "3dc697ef",
   "metadata": {},
   "source": [
    "# Preventable vs Treatable Mortality graph"
   ]
  },
  {
   "cell_type": "code",
   "execution_count": 5,
   "id": "ed5312fa",
   "metadata": {},
   "outputs": [],
   "source": [
    "%matplotlib qt\n",
    "df=pd.read_csv('Mortality.csv')\n",
    "df1=df.loc[(df['Country'] == 'Germany')&(df['Variable'].isin(['Treatable mortality','Preventable mortality']))&(df['Measure']=='Number of male deaths')]\n",
    "df2=df.loc[(df['Country'] == 'Germany')&(df['Variable'].isin(['Treatable mortality','Preventable mortality']))&(df['Measure']=='Number of female deaths')]\n",
    "fig, axes = plt.subplots(2, 1,figsize=(10, 8))\n",
    "ax0=sns.barplot(x=\"Year\",y=\"Value\",hue=\"Variable\",data=df1,ci=None,palette=\"Spectral\",ax=axes[0])\n",
    "ax1=sns.barplot(x=\"Year\",y=\"Value\",hue=\"Variable\",data=df2,palette=\"Spectral\",ci=None,ax=axes[1])\n",
    "ax0.set_title('Avoidable mortality Male')\n",
    "ax1.set_title('Avoidable mortality Female')\n",
    "ax0.set(xlabel=None)\n",
    "ax0.set(ylabel='Total Number of Deaths')\n",
    "ax0.get_legend().set_title(\"Avoidable mortality\")\n",
    "ax1.get_legend().remove()\n",
    "ax1.set(ylabel='Total Number of Deaths')\n",
    "plt.tight_layout()\n",
    "plt.savefig('mortality.png')\n",
    "\n",
    "#A bar graph to show the preventable and treatable mortality separately for the two groups"
   ]
  },
  {
   "cell_type": "markdown",
   "id": "414f99bc",
   "metadata": {},
   "source": [
    "# Countrywise Avoidable mortality graph"
   ]
  },
  {
   "cell_type": "code",
   "execution_count": 6,
   "id": "f88d2cae",
   "metadata": {},
   "outputs": [],
   "source": [
    "%matplotlib qt\n",
    "df1=pd.read_csv('Mortality.csv')\n",
    "df1=df1.loc[(df1['Country'].isin(['Germany','Spain','United Kingdom','Italy','Denmark','Ireland'])) & (df1['Variable']=='Avoidable mortality (preventable+treatable)')]\n",
    "df1=df1.loc[df1['Measure']==\"Deaths per 100 000 population (standardised rates)\"]\n",
    "plt.figure()\n",
    "df1['Year']=pd.to_datetime(df1['Year'],format='%Y')\n",
    "sns.lineplot(x=\"Year\",y=\"Value\",hue=\"Country\",data=df1,style=\"Country\",\n",
    "    markers=True, dashes=False,palette=\"flare\")\n",
    "plt.ylabel('Number of Deaths per 100000 ')\n",
    "plt.title('Avoidable Mortality')\n",
    "plt.savefig('Countrymortality.png')"
   ]
  },
  {
   "cell_type": "code",
   "execution_count": 7,
   "id": "96d890ea",
   "metadata": {},
   "outputs": [
    {
     "data": {
      "text/plain": [
       "<matplotlib.legend.Legend at 0x211509e32b0>"
      ]
     },
     "execution_count": 7,
     "metadata": {},
     "output_type": "execute_result"
    }
   ],
   "source": [
    "%matplotlib qt\n",
    "df1=pd.read_csv('Mortality.csv')\n",
    "df1=df1.loc[(df1['Country'].isin(['Germany','Australia','Brazil','Japan'])) & (df1['Variable']=='Avoidable mortality (preventable+treatable)')]\n",
    "df1=df1.loc[df1['Measure']==\"Deaths per 100 000 population (standardised rates)\"]\n",
    "df1['Year']=pd.to_datetime(df1['Year'],format='%Y')\n",
    "df1=pd.pivot_table(df1,index='Year',columns='Country',values='Value')\n",
    "df1.plot.area(stacked=False,color=sns.color_palette(\"cividis_r\"))\n",
    "plt.ylabel('Number of Deaths per 100000 ')\n",
    "plt.title('Avoidable Mortality')\n",
    "plt.savefig('areachart.png')\n",
    "plt.legend(loc=\"upper right\")"
   ]
  },
  {
   "cell_type": "code",
   "execution_count": 8,
   "id": "59309de9",
   "metadata": {},
   "outputs": [],
   "source": [
    "%matplotlib qt\n",
    "df1=pd.read_csv('Mortality.csv')\n",
    "df1=df1.loc[(df1['Country'].isin(['Germany','Canada','Ireland','Poland'])) & (df1['Variable']=='Avoidable mortality (preventable+treatable)')]\n",
    "df1=df1.loc[df1['Measure']==\"Deaths per 100 000 population (standardised rates)\"]\n",
    "sns.lmplot(x=\"Year\",y=\"Value\",hue=\"Country\",data=df1,fit_reg=False,markers=[\"o\",\"x\",\"+\",\"^\"])\n",
    "plt.ylabel('Number of Deaths per 100000 ')\n",
    "plt.title('Avoidable Mortality')\n",
    "plt.savefig('scatterplot.png')"
   ]
  },
  {
   "cell_type": "code",
   "execution_count": 15,
   "id": "c5508016",
   "metadata": {
    "scrolled": false
   },
   "outputs": [
    {
     "data": {
      "application/javascript": [
       "/* Put everything inside the global mpl namespace */\n",
       "/* global mpl */\n",
       "window.mpl = {};\n",
       "\n",
       "mpl.get_websocket_type = function () {\n",
       "    if (typeof WebSocket !== 'undefined') {\n",
       "        return WebSocket;\n",
       "    } else if (typeof MozWebSocket !== 'undefined') {\n",
       "        return MozWebSocket;\n",
       "    } else {\n",
       "        alert(\n",
       "            'Your browser does not have WebSocket support. ' +\n",
       "                'Please try Chrome, Safari or Firefox ≥ 6. ' +\n",
       "                'Firefox 4 and 5 are also supported but you ' +\n",
       "                'have to enable WebSockets in about:config.'\n",
       "        );\n",
       "    }\n",
       "};\n",
       "\n",
       "mpl.figure = function (figure_id, websocket, ondownload, parent_element) {\n",
       "    this.id = figure_id;\n",
       "\n",
       "    this.ws = websocket;\n",
       "\n",
       "    this.supports_binary = this.ws.binaryType !== undefined;\n",
       "\n",
       "    if (!this.supports_binary) {\n",
       "        var warnings = document.getElementById('mpl-warnings');\n",
       "        if (warnings) {\n",
       "            warnings.style.display = 'block';\n",
       "            warnings.textContent =\n",
       "                'This browser does not support binary websocket messages. ' +\n",
       "                'Performance may be slow.';\n",
       "        }\n",
       "    }\n",
       "\n",
       "    this.imageObj = new Image();\n",
       "\n",
       "    this.context = undefined;\n",
       "    this.message = undefined;\n",
       "    this.canvas = undefined;\n",
       "    this.rubberband_canvas = undefined;\n",
       "    this.rubberband_context = undefined;\n",
       "    this.format_dropdown = undefined;\n",
       "\n",
       "    this.image_mode = 'full';\n",
       "\n",
       "    this.root = document.createElement('div');\n",
       "    this.root.setAttribute('style', 'display: inline-block');\n",
       "    this._root_extra_style(this.root);\n",
       "\n",
       "    parent_element.appendChild(this.root);\n",
       "\n",
       "    this._init_header(this);\n",
       "    this._init_canvas(this);\n",
       "    this._init_toolbar(this);\n",
       "\n",
       "    var fig = this;\n",
       "\n",
       "    this.waiting = false;\n",
       "\n",
       "    this.ws.onopen = function () {\n",
       "        fig.send_message('supports_binary', { value: fig.supports_binary });\n",
       "        fig.send_message('send_image_mode', {});\n",
       "        if (fig.ratio !== 1) {\n",
       "            fig.send_message('set_device_pixel_ratio', {\n",
       "                device_pixel_ratio: fig.ratio,\n",
       "            });\n",
       "        }\n",
       "        fig.send_message('refresh', {});\n",
       "    };\n",
       "\n",
       "    this.imageObj.onload = function () {\n",
       "        if (fig.image_mode === 'full') {\n",
       "            // Full images could contain transparency (where diff images\n",
       "            // almost always do), so we need to clear the canvas so that\n",
       "            // there is no ghosting.\n",
       "            fig.context.clearRect(0, 0, fig.canvas.width, fig.canvas.height);\n",
       "        }\n",
       "        fig.context.drawImage(fig.imageObj, 0, 0);\n",
       "    };\n",
       "\n",
       "    this.imageObj.onunload = function () {\n",
       "        fig.ws.close();\n",
       "    };\n",
       "\n",
       "    this.ws.onmessage = this._make_on_message_function(this);\n",
       "\n",
       "    this.ondownload = ondownload;\n",
       "};\n",
       "\n",
       "mpl.figure.prototype._init_header = function () {\n",
       "    var titlebar = document.createElement('div');\n",
       "    titlebar.classList =\n",
       "        'ui-dialog-titlebar ui-widget-header ui-corner-all ui-helper-clearfix';\n",
       "    var titletext = document.createElement('div');\n",
       "    titletext.classList = 'ui-dialog-title';\n",
       "    titletext.setAttribute(\n",
       "        'style',\n",
       "        'width: 100%; text-align: center; padding: 3px;'\n",
       "    );\n",
       "    titlebar.appendChild(titletext);\n",
       "    this.root.appendChild(titlebar);\n",
       "    this.header = titletext;\n",
       "};\n",
       "\n",
       "mpl.figure.prototype._canvas_extra_style = function (_canvas_div) {};\n",
       "\n",
       "mpl.figure.prototype._root_extra_style = function (_canvas_div) {};\n",
       "\n",
       "mpl.figure.prototype._init_canvas = function () {\n",
       "    var fig = this;\n",
       "\n",
       "    var canvas_div = (this.canvas_div = document.createElement('div'));\n",
       "    canvas_div.setAttribute(\n",
       "        'style',\n",
       "        'border: 1px solid #ddd;' +\n",
       "            'box-sizing: content-box;' +\n",
       "            'clear: both;' +\n",
       "            'min-height: 1px;' +\n",
       "            'min-width: 1px;' +\n",
       "            'outline: 0;' +\n",
       "            'overflow: hidden;' +\n",
       "            'position: relative;' +\n",
       "            'resize: both;'\n",
       "    );\n",
       "\n",
       "    function on_keyboard_event_closure(name) {\n",
       "        return function (event) {\n",
       "            return fig.key_event(event, name);\n",
       "        };\n",
       "    }\n",
       "\n",
       "    canvas_div.addEventListener(\n",
       "        'keydown',\n",
       "        on_keyboard_event_closure('key_press')\n",
       "    );\n",
       "    canvas_div.addEventListener(\n",
       "        'keyup',\n",
       "        on_keyboard_event_closure('key_release')\n",
       "    );\n",
       "\n",
       "    this._canvas_extra_style(canvas_div);\n",
       "    this.root.appendChild(canvas_div);\n",
       "\n",
       "    var canvas = (this.canvas = document.createElement('canvas'));\n",
       "    canvas.classList.add('mpl-canvas');\n",
       "    canvas.setAttribute('style', 'box-sizing: content-box;');\n",
       "\n",
       "    this.context = canvas.getContext('2d');\n",
       "\n",
       "    var backingStore =\n",
       "        this.context.backingStorePixelRatio ||\n",
       "        this.context.webkitBackingStorePixelRatio ||\n",
       "        this.context.mozBackingStorePixelRatio ||\n",
       "        this.context.msBackingStorePixelRatio ||\n",
       "        this.context.oBackingStorePixelRatio ||\n",
       "        this.context.backingStorePixelRatio ||\n",
       "        1;\n",
       "\n",
       "    this.ratio = (window.devicePixelRatio || 1) / backingStore;\n",
       "\n",
       "    var rubberband_canvas = (this.rubberband_canvas = document.createElement(\n",
       "        'canvas'\n",
       "    ));\n",
       "    rubberband_canvas.setAttribute(\n",
       "        'style',\n",
       "        'box-sizing: content-box; position: absolute; left: 0; top: 0; z-index: 1;'\n",
       "    );\n",
       "\n",
       "    // Apply a ponyfill if ResizeObserver is not implemented by browser.\n",
       "    if (this.ResizeObserver === undefined) {\n",
       "        if (window.ResizeObserver !== undefined) {\n",
       "            this.ResizeObserver = window.ResizeObserver;\n",
       "        } else {\n",
       "            var obs = _JSXTOOLS_RESIZE_OBSERVER({});\n",
       "            this.ResizeObserver = obs.ResizeObserver;\n",
       "        }\n",
       "    }\n",
       "\n",
       "    this.resizeObserverInstance = new this.ResizeObserver(function (entries) {\n",
       "        var nentries = entries.length;\n",
       "        for (var i = 0; i < nentries; i++) {\n",
       "            var entry = entries[i];\n",
       "            var width, height;\n",
       "            if (entry.contentBoxSize) {\n",
       "                if (entry.contentBoxSize instanceof Array) {\n",
       "                    // Chrome 84 implements new version of spec.\n",
       "                    width = entry.contentBoxSize[0].inlineSize;\n",
       "                    height = entry.contentBoxSize[0].blockSize;\n",
       "                } else {\n",
       "                    // Firefox implements old version of spec.\n",
       "                    width = entry.contentBoxSize.inlineSize;\n",
       "                    height = entry.contentBoxSize.blockSize;\n",
       "                }\n",
       "            } else {\n",
       "                // Chrome <84 implements even older version of spec.\n",
       "                width = entry.contentRect.width;\n",
       "                height = entry.contentRect.height;\n",
       "            }\n",
       "\n",
       "            // Keep the size of the canvas and rubber band canvas in sync with\n",
       "            // the canvas container.\n",
       "            if (entry.devicePixelContentBoxSize) {\n",
       "                // Chrome 84 implements new version of spec.\n",
       "                canvas.setAttribute(\n",
       "                    'width',\n",
       "                    entry.devicePixelContentBoxSize[0].inlineSize\n",
       "                );\n",
       "                canvas.setAttribute(\n",
       "                    'height',\n",
       "                    entry.devicePixelContentBoxSize[0].blockSize\n",
       "                );\n",
       "            } else {\n",
       "                canvas.setAttribute('width', width * fig.ratio);\n",
       "                canvas.setAttribute('height', height * fig.ratio);\n",
       "            }\n",
       "            canvas.setAttribute(\n",
       "                'style',\n",
       "                'width: ' + width + 'px; height: ' + height + 'px;'\n",
       "            );\n",
       "\n",
       "            rubberband_canvas.setAttribute('width', width);\n",
       "            rubberband_canvas.setAttribute('height', height);\n",
       "\n",
       "            // And update the size in Python. We ignore the initial 0/0 size\n",
       "            // that occurs as the element is placed into the DOM, which should\n",
       "            // otherwise not happen due to the minimum size styling.\n",
       "            if (fig.ws.readyState == 1 && width != 0 && height != 0) {\n",
       "                fig.request_resize(width, height);\n",
       "            }\n",
       "        }\n",
       "    });\n",
       "    this.resizeObserverInstance.observe(canvas_div);\n",
       "\n",
       "    function on_mouse_event_closure(name) {\n",
       "        return function (event) {\n",
       "            return fig.mouse_event(event, name);\n",
       "        };\n",
       "    }\n",
       "\n",
       "    rubberband_canvas.addEventListener(\n",
       "        'mousedown',\n",
       "        on_mouse_event_closure('button_press')\n",
       "    );\n",
       "    rubberband_canvas.addEventListener(\n",
       "        'mouseup',\n",
       "        on_mouse_event_closure('button_release')\n",
       "    );\n",
       "    rubberband_canvas.addEventListener(\n",
       "        'dblclick',\n",
       "        on_mouse_event_closure('dblclick')\n",
       "    );\n",
       "    // Throttle sequential mouse events to 1 every 20ms.\n",
       "    rubberband_canvas.addEventListener(\n",
       "        'mousemove',\n",
       "        on_mouse_event_closure('motion_notify')\n",
       "    );\n",
       "\n",
       "    rubberband_canvas.addEventListener(\n",
       "        'mouseenter',\n",
       "        on_mouse_event_closure('figure_enter')\n",
       "    );\n",
       "    rubberband_canvas.addEventListener(\n",
       "        'mouseleave',\n",
       "        on_mouse_event_closure('figure_leave')\n",
       "    );\n",
       "\n",
       "    canvas_div.addEventListener('wheel', function (event) {\n",
       "        if (event.deltaY < 0) {\n",
       "            event.step = 1;\n",
       "        } else {\n",
       "            event.step = -1;\n",
       "        }\n",
       "        on_mouse_event_closure('scroll')(event);\n",
       "    });\n",
       "\n",
       "    canvas_div.appendChild(canvas);\n",
       "    canvas_div.appendChild(rubberband_canvas);\n",
       "\n",
       "    this.rubberband_context = rubberband_canvas.getContext('2d');\n",
       "    this.rubberband_context.strokeStyle = '#000000';\n",
       "\n",
       "    this._resize_canvas = function (width, height, forward) {\n",
       "        if (forward) {\n",
       "            canvas_div.style.width = width + 'px';\n",
       "            canvas_div.style.height = height + 'px';\n",
       "        }\n",
       "    };\n",
       "\n",
       "    // Disable right mouse context menu.\n",
       "    this.rubberband_canvas.addEventListener('contextmenu', function (_e) {\n",
       "        event.preventDefault();\n",
       "        return false;\n",
       "    });\n",
       "\n",
       "    function set_focus() {\n",
       "        canvas.focus();\n",
       "        canvas_div.focus();\n",
       "    }\n",
       "\n",
       "    window.setTimeout(set_focus, 100);\n",
       "};\n",
       "\n",
       "mpl.figure.prototype._init_toolbar = function () {\n",
       "    var fig = this;\n",
       "\n",
       "    var toolbar = document.createElement('div');\n",
       "    toolbar.classList = 'mpl-toolbar';\n",
       "    this.root.appendChild(toolbar);\n",
       "\n",
       "    function on_click_closure(name) {\n",
       "        return function (_event) {\n",
       "            return fig.toolbar_button_onclick(name);\n",
       "        };\n",
       "    }\n",
       "\n",
       "    function on_mouseover_closure(tooltip) {\n",
       "        return function (event) {\n",
       "            if (!event.currentTarget.disabled) {\n",
       "                return fig.toolbar_button_onmouseover(tooltip);\n",
       "            }\n",
       "        };\n",
       "    }\n",
       "\n",
       "    fig.buttons = {};\n",
       "    var buttonGroup = document.createElement('div');\n",
       "    buttonGroup.classList = 'mpl-button-group';\n",
       "    for (var toolbar_ind in mpl.toolbar_items) {\n",
       "        var name = mpl.toolbar_items[toolbar_ind][0];\n",
       "        var tooltip = mpl.toolbar_items[toolbar_ind][1];\n",
       "        var image = mpl.toolbar_items[toolbar_ind][2];\n",
       "        var method_name = mpl.toolbar_items[toolbar_ind][3];\n",
       "\n",
       "        if (!name) {\n",
       "            /* Instead of a spacer, we start a new button group. */\n",
       "            if (buttonGroup.hasChildNodes()) {\n",
       "                toolbar.appendChild(buttonGroup);\n",
       "            }\n",
       "            buttonGroup = document.createElement('div');\n",
       "            buttonGroup.classList = 'mpl-button-group';\n",
       "            continue;\n",
       "        }\n",
       "\n",
       "        var button = (fig.buttons[name] = document.createElement('button'));\n",
       "        button.classList = 'mpl-widget';\n",
       "        button.setAttribute('role', 'button');\n",
       "        button.setAttribute('aria-disabled', 'false');\n",
       "        button.addEventListener('click', on_click_closure(method_name));\n",
       "        button.addEventListener('mouseover', on_mouseover_closure(tooltip));\n",
       "\n",
       "        var icon_img = document.createElement('img');\n",
       "        icon_img.src = '_images/' + image + '.png';\n",
       "        icon_img.srcset = '_images/' + image + '_large.png 2x';\n",
       "        icon_img.alt = tooltip;\n",
       "        button.appendChild(icon_img);\n",
       "\n",
       "        buttonGroup.appendChild(button);\n",
       "    }\n",
       "\n",
       "    if (buttonGroup.hasChildNodes()) {\n",
       "        toolbar.appendChild(buttonGroup);\n",
       "    }\n",
       "\n",
       "    var fmt_picker = document.createElement('select');\n",
       "    fmt_picker.classList = 'mpl-widget';\n",
       "    toolbar.appendChild(fmt_picker);\n",
       "    this.format_dropdown = fmt_picker;\n",
       "\n",
       "    for (var ind in mpl.extensions) {\n",
       "        var fmt = mpl.extensions[ind];\n",
       "        var option = document.createElement('option');\n",
       "        option.selected = fmt === mpl.default_extension;\n",
       "        option.innerHTML = fmt;\n",
       "        fmt_picker.appendChild(option);\n",
       "    }\n",
       "\n",
       "    var status_bar = document.createElement('span');\n",
       "    status_bar.classList = 'mpl-message';\n",
       "    toolbar.appendChild(status_bar);\n",
       "    this.message = status_bar;\n",
       "};\n",
       "\n",
       "mpl.figure.prototype.request_resize = function (x_pixels, y_pixels) {\n",
       "    // Request matplotlib to resize the figure. Matplotlib will then trigger a resize in the client,\n",
       "    // which will in turn request a refresh of the image.\n",
       "    this.send_message('resize', { width: x_pixels, height: y_pixels });\n",
       "};\n",
       "\n",
       "mpl.figure.prototype.send_message = function (type, properties) {\n",
       "    properties['type'] = type;\n",
       "    properties['figure_id'] = this.id;\n",
       "    this.ws.send(JSON.stringify(properties));\n",
       "};\n",
       "\n",
       "mpl.figure.prototype.send_draw_message = function () {\n",
       "    if (!this.waiting) {\n",
       "        this.waiting = true;\n",
       "        this.ws.send(JSON.stringify({ type: 'draw', figure_id: this.id }));\n",
       "    }\n",
       "};\n",
       "\n",
       "mpl.figure.prototype.handle_save = function (fig, _msg) {\n",
       "    var format_dropdown = fig.format_dropdown;\n",
       "    var format = format_dropdown.options[format_dropdown.selectedIndex].value;\n",
       "    fig.ondownload(fig, format);\n",
       "};\n",
       "\n",
       "mpl.figure.prototype.handle_resize = function (fig, msg) {\n",
       "    var size = msg['size'];\n",
       "    if (size[0] !== fig.canvas.width || size[1] !== fig.canvas.height) {\n",
       "        fig._resize_canvas(size[0], size[1], msg['forward']);\n",
       "        fig.send_message('refresh', {});\n",
       "    }\n",
       "};\n",
       "\n",
       "mpl.figure.prototype.handle_rubberband = function (fig, msg) {\n",
       "    var x0 = msg['x0'] / fig.ratio;\n",
       "    var y0 = (fig.canvas.height - msg['y0']) / fig.ratio;\n",
       "    var x1 = msg['x1'] / fig.ratio;\n",
       "    var y1 = (fig.canvas.height - msg['y1']) / fig.ratio;\n",
       "    x0 = Math.floor(x0) + 0.5;\n",
       "    y0 = Math.floor(y0) + 0.5;\n",
       "    x1 = Math.floor(x1) + 0.5;\n",
       "    y1 = Math.floor(y1) + 0.5;\n",
       "    var min_x = Math.min(x0, x1);\n",
       "    var min_y = Math.min(y0, y1);\n",
       "    var width = Math.abs(x1 - x0);\n",
       "    var height = Math.abs(y1 - y0);\n",
       "\n",
       "    fig.rubberband_context.clearRect(\n",
       "        0,\n",
       "        0,\n",
       "        fig.canvas.width / fig.ratio,\n",
       "        fig.canvas.height / fig.ratio\n",
       "    );\n",
       "\n",
       "    fig.rubberband_context.strokeRect(min_x, min_y, width, height);\n",
       "};\n",
       "\n",
       "mpl.figure.prototype.handle_figure_label = function (fig, msg) {\n",
       "    // Updates the figure title.\n",
       "    fig.header.textContent = msg['label'];\n",
       "};\n",
       "\n",
       "mpl.figure.prototype.handle_cursor = function (fig, msg) {\n",
       "    fig.rubberband_canvas.style.cursor = msg['cursor'];\n",
       "};\n",
       "\n",
       "mpl.figure.prototype.handle_message = function (fig, msg) {\n",
       "    fig.message.textContent = msg['message'];\n",
       "};\n",
       "\n",
       "mpl.figure.prototype.handle_draw = function (fig, _msg) {\n",
       "    // Request the server to send over a new figure.\n",
       "    fig.send_draw_message();\n",
       "};\n",
       "\n",
       "mpl.figure.prototype.handle_image_mode = function (fig, msg) {\n",
       "    fig.image_mode = msg['mode'];\n",
       "};\n",
       "\n",
       "mpl.figure.prototype.handle_history_buttons = function (fig, msg) {\n",
       "    for (var key in msg) {\n",
       "        if (!(key in fig.buttons)) {\n",
       "            continue;\n",
       "        }\n",
       "        fig.buttons[key].disabled = !msg[key];\n",
       "        fig.buttons[key].setAttribute('aria-disabled', !msg[key]);\n",
       "    }\n",
       "};\n",
       "\n",
       "mpl.figure.prototype.handle_navigate_mode = function (fig, msg) {\n",
       "    if (msg['mode'] === 'PAN') {\n",
       "        fig.buttons['Pan'].classList.add('active');\n",
       "        fig.buttons['Zoom'].classList.remove('active');\n",
       "    } else if (msg['mode'] === 'ZOOM') {\n",
       "        fig.buttons['Pan'].classList.remove('active');\n",
       "        fig.buttons['Zoom'].classList.add('active');\n",
       "    } else {\n",
       "        fig.buttons['Pan'].classList.remove('active');\n",
       "        fig.buttons['Zoom'].classList.remove('active');\n",
       "    }\n",
       "};\n",
       "\n",
       "mpl.figure.prototype.updated_canvas_event = function () {\n",
       "    // Called whenever the canvas gets updated.\n",
       "    this.send_message('ack', {});\n",
       "};\n",
       "\n",
       "// A function to construct a web socket function for onmessage handling.\n",
       "// Called in the figure constructor.\n",
       "mpl.figure.prototype._make_on_message_function = function (fig) {\n",
       "    return function socket_on_message(evt) {\n",
       "        if (evt.data instanceof Blob) {\n",
       "            var img = evt.data;\n",
       "            if (img.type !== 'image/png') {\n",
       "                /* FIXME: We get \"Resource interpreted as Image but\n",
       "                 * transferred with MIME type text/plain:\" errors on\n",
       "                 * Chrome.  But how to set the MIME type?  It doesn't seem\n",
       "                 * to be part of the websocket stream */\n",
       "                img.type = 'image/png';\n",
       "            }\n",
       "\n",
       "            /* Free the memory for the previous frames */\n",
       "            if (fig.imageObj.src) {\n",
       "                (window.URL || window.webkitURL).revokeObjectURL(\n",
       "                    fig.imageObj.src\n",
       "                );\n",
       "            }\n",
       "\n",
       "            fig.imageObj.src = (window.URL || window.webkitURL).createObjectURL(\n",
       "                img\n",
       "            );\n",
       "            fig.updated_canvas_event();\n",
       "            fig.waiting = false;\n",
       "            return;\n",
       "        } else if (\n",
       "            typeof evt.data === 'string' &&\n",
       "            evt.data.slice(0, 21) === 'data:image/png;base64'\n",
       "        ) {\n",
       "            fig.imageObj.src = evt.data;\n",
       "            fig.updated_canvas_event();\n",
       "            fig.waiting = false;\n",
       "            return;\n",
       "        }\n",
       "\n",
       "        var msg = JSON.parse(evt.data);\n",
       "        var msg_type = msg['type'];\n",
       "\n",
       "        // Call the  \"handle_{type}\" callback, which takes\n",
       "        // the figure and JSON message as its only arguments.\n",
       "        try {\n",
       "            var callback = fig['handle_' + msg_type];\n",
       "        } catch (e) {\n",
       "            console.log(\n",
       "                \"No handler for the '\" + msg_type + \"' message type: \",\n",
       "                msg\n",
       "            );\n",
       "            return;\n",
       "        }\n",
       "\n",
       "        if (callback) {\n",
       "            try {\n",
       "                // console.log(\"Handling '\" + msg_type + \"' message: \", msg);\n",
       "                callback(fig, msg);\n",
       "            } catch (e) {\n",
       "                console.log(\n",
       "                    \"Exception inside the 'handler_\" + msg_type + \"' callback:\",\n",
       "                    e,\n",
       "                    e.stack,\n",
       "                    msg\n",
       "                );\n",
       "            }\n",
       "        }\n",
       "    };\n",
       "};\n",
       "\n",
       "// from https://stackoverflow.com/questions/1114465/getting-mouse-location-in-canvas\n",
       "mpl.findpos = function (e) {\n",
       "    //this section is from http://www.quirksmode.org/js/events_properties.html\n",
       "    var targ;\n",
       "    if (!e) {\n",
       "        e = window.event;\n",
       "    }\n",
       "    if (e.target) {\n",
       "        targ = e.target;\n",
       "    } else if (e.srcElement) {\n",
       "        targ = e.srcElement;\n",
       "    }\n",
       "    if (targ.nodeType === 3) {\n",
       "        // defeat Safari bug\n",
       "        targ = targ.parentNode;\n",
       "    }\n",
       "\n",
       "    // pageX,Y are the mouse positions relative to the document\n",
       "    var boundingRect = targ.getBoundingClientRect();\n",
       "    var x = e.pageX - (boundingRect.left + document.body.scrollLeft);\n",
       "    var y = e.pageY - (boundingRect.top + document.body.scrollTop);\n",
       "\n",
       "    return { x: x, y: y };\n",
       "};\n",
       "\n",
       "/*\n",
       " * return a copy of an object with only non-object keys\n",
       " * we need this to avoid circular references\n",
       " * https://stackoverflow.com/a/24161582/3208463\n",
       " */\n",
       "function simpleKeys(original) {\n",
       "    return Object.keys(original).reduce(function (obj, key) {\n",
       "        if (typeof original[key] !== 'object') {\n",
       "            obj[key] = original[key];\n",
       "        }\n",
       "        return obj;\n",
       "    }, {});\n",
       "}\n",
       "\n",
       "mpl.figure.prototype.mouse_event = function (event, name) {\n",
       "    var canvas_pos = mpl.findpos(event);\n",
       "\n",
       "    if (name === 'button_press') {\n",
       "        this.canvas.focus();\n",
       "        this.canvas_div.focus();\n",
       "    }\n",
       "\n",
       "    var x = canvas_pos.x * this.ratio;\n",
       "    var y = canvas_pos.y * this.ratio;\n",
       "\n",
       "    this.send_message(name, {\n",
       "        x: x,\n",
       "        y: y,\n",
       "        button: event.button,\n",
       "        step: event.step,\n",
       "        guiEvent: simpleKeys(event),\n",
       "    });\n",
       "\n",
       "    /* This prevents the web browser from automatically changing to\n",
       "     * the text insertion cursor when the button is pressed.  We want\n",
       "     * to control all of the cursor setting manually through the\n",
       "     * 'cursor' event from matplotlib */\n",
       "    event.preventDefault();\n",
       "    return false;\n",
       "};\n",
       "\n",
       "mpl.figure.prototype._key_event_extra = function (_event, _name) {\n",
       "    // Handle any extra behaviour associated with a key event\n",
       "};\n",
       "\n",
       "mpl.figure.prototype.key_event = function (event, name) {\n",
       "    // Prevent repeat events\n",
       "    if (name === 'key_press') {\n",
       "        if (event.key === this._key) {\n",
       "            return;\n",
       "        } else {\n",
       "            this._key = event.key;\n",
       "        }\n",
       "    }\n",
       "    if (name === 'key_release') {\n",
       "        this._key = null;\n",
       "    }\n",
       "\n",
       "    var value = '';\n",
       "    if (event.ctrlKey && event.key !== 'Control') {\n",
       "        value += 'ctrl+';\n",
       "    }\n",
       "    else if (event.altKey && event.key !== 'Alt') {\n",
       "        value += 'alt+';\n",
       "    }\n",
       "    else if (event.shiftKey && event.key !== 'Shift') {\n",
       "        value += 'shift+';\n",
       "    }\n",
       "\n",
       "    value += 'k' + event.key;\n",
       "\n",
       "    this._key_event_extra(event, name);\n",
       "\n",
       "    this.send_message(name, { key: value, guiEvent: simpleKeys(event) });\n",
       "    return false;\n",
       "};\n",
       "\n",
       "mpl.figure.prototype.toolbar_button_onclick = function (name) {\n",
       "    if (name === 'download') {\n",
       "        this.handle_save(this, null);\n",
       "    } else {\n",
       "        this.send_message('toolbar_button', { name: name });\n",
       "    }\n",
       "};\n",
       "\n",
       "mpl.figure.prototype.toolbar_button_onmouseover = function (tooltip) {\n",
       "    this.message.textContent = tooltip;\n",
       "};\n",
       "\n",
       "///////////////// REMAINING CONTENT GENERATED BY embed_js.py /////////////////\n",
       "// prettier-ignore\n",
       "var _JSXTOOLS_RESIZE_OBSERVER=function(A){var t,i=new WeakMap,n=new WeakMap,a=new WeakMap,r=new WeakMap,o=new Set;function s(e){if(!(this instanceof s))throw new TypeError(\"Constructor requires 'new' operator\");i.set(this,e)}function h(){throw new TypeError(\"Function is not a constructor\")}function c(e,t,i,n){e=0 in arguments?Number(arguments[0]):0,t=1 in arguments?Number(arguments[1]):0,i=2 in arguments?Number(arguments[2]):0,n=3 in arguments?Number(arguments[3]):0,this.right=(this.x=this.left=e)+(this.width=i),this.bottom=(this.y=this.top=t)+(this.height=n),Object.freeze(this)}function d(){t=requestAnimationFrame(d);var s=new WeakMap,p=new Set;o.forEach((function(t){r.get(t).forEach((function(i){var r=t instanceof window.SVGElement,o=a.get(t),d=r?0:parseFloat(o.paddingTop),f=r?0:parseFloat(o.paddingRight),l=r?0:parseFloat(o.paddingBottom),u=r?0:parseFloat(o.paddingLeft),g=r?0:parseFloat(o.borderTopWidth),m=r?0:parseFloat(o.borderRightWidth),w=r?0:parseFloat(o.borderBottomWidth),b=u+f,F=d+l,v=(r?0:parseFloat(o.borderLeftWidth))+m,W=g+w,y=r?0:t.offsetHeight-W-t.clientHeight,E=r?0:t.offsetWidth-v-t.clientWidth,R=b+v,z=F+W,M=r?t.width:parseFloat(o.width)-R-E,O=r?t.height:parseFloat(o.height)-z-y;if(n.has(t)){var k=n.get(t);if(k[0]===M&&k[1]===O)return}n.set(t,[M,O]);var S=Object.create(h.prototype);S.target=t,S.contentRect=new c(u,d,M,O),s.has(i)||(s.set(i,[]),p.add(i)),s.get(i).push(S)}))})),p.forEach((function(e){i.get(e).call(e,s.get(e),e)}))}return s.prototype.observe=function(i){if(i instanceof window.Element){r.has(i)||(r.set(i,new Set),o.add(i),a.set(i,window.getComputedStyle(i)));var n=r.get(i);n.has(this)||n.add(this),cancelAnimationFrame(t),t=requestAnimationFrame(d)}},s.prototype.unobserve=function(i){if(i instanceof window.Element&&r.has(i)){var n=r.get(i);n.has(this)&&(n.delete(this),n.size||(r.delete(i),o.delete(i))),n.size||r.delete(i),o.size||cancelAnimationFrame(t)}},A.DOMRectReadOnly=c,A.ResizeObserver=s,A.ResizeObserverEntry=h,A}; // eslint-disable-line\n",
       "mpl.toolbar_items = [[\"Home\", \"Reset original view\", \"fa fa-home icon-home\", \"home\"], [\"Back\", \"Back to previous view\", \"fa fa-arrow-left icon-arrow-left\", \"back\"], [\"Forward\", \"Forward to next view\", \"fa fa-arrow-right icon-arrow-right\", \"forward\"], [\"\", \"\", \"\", \"\"], [\"Pan\", \"Left button pans, Right button zooms\\nx/y fixes axis, CTRL fixes aspect\", \"fa fa-arrows icon-move\", \"pan\"], [\"Zoom\", \"Zoom to rectangle\\nx/y fixes axis\", \"fa fa-square-o icon-check-empty\", \"zoom\"], [\"\", \"\", \"\", \"\"], [\"Download\", \"Download plot\", \"fa fa-floppy-o icon-save\", \"download\"]];\n",
       "\n",
       "mpl.extensions = [\"eps\", \"jpeg\", \"pgf\", \"pdf\", \"png\", \"ps\", \"raw\", \"svg\", \"tif\"];\n",
       "\n",
       "mpl.default_extension = \"png\";/* global mpl */\n",
       "\n",
       "var comm_websocket_adapter = function (comm) {\n",
       "    // Create a \"websocket\"-like object which calls the given IPython comm\n",
       "    // object with the appropriate methods. Currently this is a non binary\n",
       "    // socket, so there is still some room for performance tuning.\n",
       "    var ws = {};\n",
       "\n",
       "    ws.binaryType = comm.kernel.ws.binaryType;\n",
       "    ws.readyState = comm.kernel.ws.readyState;\n",
       "    function updateReadyState(_event) {\n",
       "        if (comm.kernel.ws) {\n",
       "            ws.readyState = comm.kernel.ws.readyState;\n",
       "        } else {\n",
       "            ws.readyState = 3; // Closed state.\n",
       "        }\n",
       "    }\n",
       "    comm.kernel.ws.addEventListener('open', updateReadyState);\n",
       "    comm.kernel.ws.addEventListener('close', updateReadyState);\n",
       "    comm.kernel.ws.addEventListener('error', updateReadyState);\n",
       "\n",
       "    ws.close = function () {\n",
       "        comm.close();\n",
       "    };\n",
       "    ws.send = function (m) {\n",
       "        //console.log('sending', m);\n",
       "        comm.send(m);\n",
       "    };\n",
       "    // Register the callback with on_msg.\n",
       "    comm.on_msg(function (msg) {\n",
       "        //console.log('receiving', msg['content']['data'], msg);\n",
       "        var data = msg['content']['data'];\n",
       "        if (data['blob'] !== undefined) {\n",
       "            data = {\n",
       "                data: new Blob(msg['buffers'], { type: data['blob'] }),\n",
       "            };\n",
       "        }\n",
       "        // Pass the mpl event to the overridden (by mpl) onmessage function.\n",
       "        ws.onmessage(data);\n",
       "    });\n",
       "    return ws;\n",
       "};\n",
       "\n",
       "mpl.mpl_figure_comm = function (comm, msg) {\n",
       "    // This is the function which gets called when the mpl process\n",
       "    // starts-up an IPython Comm through the \"matplotlib\" channel.\n",
       "\n",
       "    var id = msg.content.data.id;\n",
       "    // Get hold of the div created by the display call when the Comm\n",
       "    // socket was opened in Python.\n",
       "    var element = document.getElementById(id);\n",
       "    var ws_proxy = comm_websocket_adapter(comm);\n",
       "\n",
       "    function ondownload(figure, _format) {\n",
       "        window.open(figure.canvas.toDataURL());\n",
       "    }\n",
       "\n",
       "    var fig = new mpl.figure(id, ws_proxy, ondownload, element);\n",
       "\n",
       "    // Call onopen now - mpl needs it, as it is assuming we've passed it a real\n",
       "    // web socket which is closed, not our websocket->open comm proxy.\n",
       "    ws_proxy.onopen();\n",
       "\n",
       "    fig.parent_element = element;\n",
       "    fig.cell_info = mpl.find_output_cell(\"<div id='\" + id + \"'></div>\");\n",
       "    if (!fig.cell_info) {\n",
       "        console.error('Failed to find cell for figure', id, fig);\n",
       "        return;\n",
       "    }\n",
       "    fig.cell_info[0].output_area.element.on(\n",
       "        'cleared',\n",
       "        { fig: fig },\n",
       "        fig._remove_fig_handler\n",
       "    );\n",
       "};\n",
       "\n",
       "mpl.figure.prototype.handle_close = function (fig, msg) {\n",
       "    var width = fig.canvas.width / fig.ratio;\n",
       "    fig.cell_info[0].output_area.element.off(\n",
       "        'cleared',\n",
       "        fig._remove_fig_handler\n",
       "    );\n",
       "    fig.resizeObserverInstance.unobserve(fig.canvas_div);\n",
       "\n",
       "    // Update the output cell to use the data from the current canvas.\n",
       "    fig.push_to_output();\n",
       "    var dataURL = fig.canvas.toDataURL();\n",
       "    // Re-enable the keyboard manager in IPython - without this line, in FF,\n",
       "    // the notebook keyboard shortcuts fail.\n",
       "    IPython.keyboard_manager.enable();\n",
       "    fig.parent_element.innerHTML =\n",
       "        '<img src=\"' + dataURL + '\" width=\"' + width + '\">';\n",
       "    fig.close_ws(fig, msg);\n",
       "};\n",
       "\n",
       "mpl.figure.prototype.close_ws = function (fig, msg) {\n",
       "    fig.send_message('closing', msg);\n",
       "    // fig.ws.close()\n",
       "};\n",
       "\n",
       "mpl.figure.prototype.push_to_output = function (_remove_interactive) {\n",
       "    // Turn the data on the canvas into data in the output cell.\n",
       "    var width = this.canvas.width / this.ratio;\n",
       "    var dataURL = this.canvas.toDataURL();\n",
       "    this.cell_info[1]['text/html'] =\n",
       "        '<img src=\"' + dataURL + '\" width=\"' + width + '\">';\n",
       "};\n",
       "\n",
       "mpl.figure.prototype.updated_canvas_event = function () {\n",
       "    // Tell IPython that the notebook contents must change.\n",
       "    IPython.notebook.set_dirty(true);\n",
       "    this.send_message('ack', {});\n",
       "    var fig = this;\n",
       "    // Wait a second, then push the new image to the DOM so\n",
       "    // that it is saved nicely (might be nice to debounce this).\n",
       "    setTimeout(function () {\n",
       "        fig.push_to_output();\n",
       "    }, 1000);\n",
       "};\n",
       "\n",
       "mpl.figure.prototype._init_toolbar = function () {\n",
       "    var fig = this;\n",
       "\n",
       "    var toolbar = document.createElement('div');\n",
       "    toolbar.classList = 'btn-toolbar';\n",
       "    this.root.appendChild(toolbar);\n",
       "\n",
       "    function on_click_closure(name) {\n",
       "        return function (_event) {\n",
       "            return fig.toolbar_button_onclick(name);\n",
       "        };\n",
       "    }\n",
       "\n",
       "    function on_mouseover_closure(tooltip) {\n",
       "        return function (event) {\n",
       "            if (!event.currentTarget.disabled) {\n",
       "                return fig.toolbar_button_onmouseover(tooltip);\n",
       "            }\n",
       "        };\n",
       "    }\n",
       "\n",
       "    fig.buttons = {};\n",
       "    var buttonGroup = document.createElement('div');\n",
       "    buttonGroup.classList = 'btn-group';\n",
       "    var button;\n",
       "    for (var toolbar_ind in mpl.toolbar_items) {\n",
       "        var name = mpl.toolbar_items[toolbar_ind][0];\n",
       "        var tooltip = mpl.toolbar_items[toolbar_ind][1];\n",
       "        var image = mpl.toolbar_items[toolbar_ind][2];\n",
       "        var method_name = mpl.toolbar_items[toolbar_ind][3];\n",
       "\n",
       "        if (!name) {\n",
       "            /* Instead of a spacer, we start a new button group. */\n",
       "            if (buttonGroup.hasChildNodes()) {\n",
       "                toolbar.appendChild(buttonGroup);\n",
       "            }\n",
       "            buttonGroup = document.createElement('div');\n",
       "            buttonGroup.classList = 'btn-group';\n",
       "            continue;\n",
       "        }\n",
       "\n",
       "        button = fig.buttons[name] = document.createElement('button');\n",
       "        button.classList = 'btn btn-default';\n",
       "        button.href = '#';\n",
       "        button.title = name;\n",
       "        button.innerHTML = '<i class=\"fa ' + image + ' fa-lg\"></i>';\n",
       "        button.addEventListener('click', on_click_closure(method_name));\n",
       "        button.addEventListener('mouseover', on_mouseover_closure(tooltip));\n",
       "        buttonGroup.appendChild(button);\n",
       "    }\n",
       "\n",
       "    if (buttonGroup.hasChildNodes()) {\n",
       "        toolbar.appendChild(buttonGroup);\n",
       "    }\n",
       "\n",
       "    // Add the status bar.\n",
       "    var status_bar = document.createElement('span');\n",
       "    status_bar.classList = 'mpl-message pull-right';\n",
       "    toolbar.appendChild(status_bar);\n",
       "    this.message = status_bar;\n",
       "\n",
       "    // Add the close button to the window.\n",
       "    var buttongrp = document.createElement('div');\n",
       "    buttongrp.classList = 'btn-group inline pull-right';\n",
       "    button = document.createElement('button');\n",
       "    button.classList = 'btn btn-mini btn-primary';\n",
       "    button.href = '#';\n",
       "    button.title = 'Stop Interaction';\n",
       "    button.innerHTML = '<i class=\"fa fa-power-off icon-remove icon-large\"></i>';\n",
       "    button.addEventListener('click', function (_evt) {\n",
       "        fig.handle_close(fig, {});\n",
       "    });\n",
       "    button.addEventListener(\n",
       "        'mouseover',\n",
       "        on_mouseover_closure('Stop Interaction')\n",
       "    );\n",
       "    buttongrp.appendChild(button);\n",
       "    var titlebar = this.root.querySelector('.ui-dialog-titlebar');\n",
       "    titlebar.insertBefore(buttongrp, titlebar.firstChild);\n",
       "};\n",
       "\n",
       "mpl.figure.prototype._remove_fig_handler = function (event) {\n",
       "    var fig = event.data.fig;\n",
       "    if (event.target !== this) {\n",
       "        // Ignore bubbled events from children.\n",
       "        return;\n",
       "    }\n",
       "    fig.close_ws(fig, {});\n",
       "};\n",
       "\n",
       "mpl.figure.prototype._root_extra_style = function (el) {\n",
       "    el.style.boxSizing = 'content-box'; // override notebook setting of border-box.\n",
       "};\n",
       "\n",
       "mpl.figure.prototype._canvas_extra_style = function (el) {\n",
       "    // this is important to make the div 'focusable\n",
       "    el.setAttribute('tabindex', 0);\n",
       "    // reach out to IPython and tell the keyboard manager to turn it's self\n",
       "    // off when our div gets focus\n",
       "\n",
       "    // location in version 3\n",
       "    if (IPython.notebook.keyboard_manager) {\n",
       "        IPython.notebook.keyboard_manager.register_events(el);\n",
       "    } else {\n",
       "        // location in version 2\n",
       "        IPython.keyboard_manager.register_events(el);\n",
       "    }\n",
       "};\n",
       "\n",
       "mpl.figure.prototype._key_event_extra = function (event, _name) {\n",
       "    // Check for shift+enter\n",
       "    if (event.shiftKey && event.which === 13) {\n",
       "        this.canvas_div.blur();\n",
       "        // select the cell after this one\n",
       "        var index = IPython.notebook.find_cell_index(this.cell_info[0]);\n",
       "        IPython.notebook.select(index + 1);\n",
       "    }\n",
       "};\n",
       "\n",
       "mpl.figure.prototype.handle_save = function (fig, _msg) {\n",
       "    fig.ondownload(fig, null);\n",
       "};\n",
       "\n",
       "mpl.find_output_cell = function (html_output) {\n",
       "    // Return the cell and output element which can be found *uniquely* in the notebook.\n",
       "    // Note - this is a bit hacky, but it is done because the \"notebook_saving.Notebook\"\n",
       "    // IPython event is triggered only after the cells have been serialised, which for\n",
       "    // our purposes (turning an active figure into a static one), is too late.\n",
       "    var cells = IPython.notebook.get_cells();\n",
       "    var ncells = cells.length;\n",
       "    for (var i = 0; i < ncells; i++) {\n",
       "        var cell = cells[i];\n",
       "        if (cell.cell_type === 'code') {\n",
       "            for (var j = 0; j < cell.output_area.outputs.length; j++) {\n",
       "                var data = cell.output_area.outputs[j];\n",
       "                if (data.data) {\n",
       "                    // IPython >= 3 moved mimebundle to data attribute of output\n",
       "                    data = data.data;\n",
       "                }\n",
       "                if (data['text/html'] === html_output) {\n",
       "                    return [cell, data, j];\n",
       "                }\n",
       "            }\n",
       "        }\n",
       "    }\n",
       "};\n",
       "\n",
       "// Register the function which deals with the matplotlib target/channel.\n",
       "// The kernel may be null if the page has been refreshed.\n",
       "if (IPython.notebook.kernel !== null) {\n",
       "    IPython.notebook.kernel.comm_manager.register_target(\n",
       "        'matplotlib',\n",
       "        mpl.mpl_figure_comm\n",
       "    );\n",
       "}\n"
      ],
      "text/plain": [
       "<IPython.core.display.Javascript object>"
      ]
     },
     "metadata": {},
     "output_type": "display_data"
    },
    {
     "data": {
      "text/html": [
       "<img src=\"data:image/png;base64,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\" width=\"1080.0000286102302\">"
      ],
      "text/plain": [
       "<IPython.core.display.HTML object>"
      ]
     },
     "metadata": {},
     "output_type": "display_data"
    }
   ],
   "source": [
    "plt.switch_backend('nbAgg')\n",
    "df1=pd.read_csv('Mortality.csv')\n",
    "df1=df1.loc[(df1['Variable']=='Avoidable mortality (preventable+treatable)')]\n",
    "df1=df1.loc[df1['Measure']==\"Deaths per 100 000 population (standardised rates)\"]\n",
    "sns.lmplot(x='Year',y=\"Value\",hue=\"Country\",col=\"Country\",data=df1,fit_reg=False,col_wrap=5,height=3,facet_kws=dict(sharex=False,sharey=False))\n",
    "plt.savefig('scattergrid.png')"
   ]
  },
  {
   "cell_type": "code",
   "execution_count": 14,
   "id": "69a3eb6e",
   "metadata": {},
   "outputs": [],
   "source": []
  },
  {
   "cell_type": "code",
   "execution_count": null,
   "id": "db01fd5c",
   "metadata": {},
   "outputs": [],
   "source": []
  },
  {
   "cell_type": "code",
   "execution_count": null,
   "id": "59894950",
   "metadata": {},
   "outputs": [],
   "source": []
  }
 ],
 "metadata": {
  "kernelspec": {
   "display_name": "Python 3 (ipykernel)",
   "language": "python",
   "name": "python3"
  },
  "language_info": {
   "codemirror_mode": {
    "name": "ipython",
    "version": 3
   },
   "file_extension": ".py",
   "mimetype": "text/x-python",
   "name": "python",
   "nbconvert_exporter": "python",
   "pygments_lexer": "ipython3",
   "version": "3.9.5"
  }
 },
 "nbformat": 4,
 "nbformat_minor": 5
}
